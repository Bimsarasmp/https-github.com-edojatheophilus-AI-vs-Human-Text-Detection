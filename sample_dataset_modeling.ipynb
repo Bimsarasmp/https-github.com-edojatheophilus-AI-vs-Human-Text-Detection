{
  "nbformat": 4,
  "nbformat_minor": 0,
  "metadata": {
    "colab": {
      "provenance": [],
      "machine_shape": "hm",
      "gpuType": "T4",
      "include_colab_link": true
    },
    "kernelspec": {
      "name": "python3",
      "display_name": "Python 3"
    },
    "language_info": {
      "name": "python"
    },
    "accelerator": "GPU"
  },
  "cells": [
    {
      "cell_type": "markdown",
      "metadata": {
        "id": "view-in-github",
        "colab_type": "text"
      },
      "source": [
        "<a href=\"https://colab.research.google.com/github/edojatheophilus/AI-vs-Human-Text-Detection/blob/Test/sample_dataset_modeling.ipynb\" target=\"_parent\"><img src=\"https://colab.research.google.com/assets/colab-badge.svg\" alt=\"Open In Colab\"/></a>"
      ]
    },
    {
      "cell_type": "markdown",
      "metadata": {
        "id": "ucWYgWn2wOJl"
      },
      "source": [
        "# **Load the dataset, Explore the dataset to understand its structure and contents**"
      ]
    },
    {
      "cell_type": "code",
      "source": [],
      "metadata": {
        "id": "pFkluAi5Z93a"
      },
      "execution_count": null,
      "outputs": []
    },
    {
      "cell_type": "code",
      "execution_count": null,
      "metadata": {
        "id": "nv9yslkn2j1t"
      },
      "outputs": [],
      "source": [
        "# Importing necessary libraries\n",
        "import pandas as pd                 # For data manipulation and analysis\n",
        "import numpy as np                  # For numerical computations\n",
        "import re                          # For regular expressions\n",
        "import nltk                        # Natural Language Toolkit\n",
        "import seaborn as sns\n",
        "import matplotlib.pyplot as plt\n",
        "from nltk.corpus import stopwords  # Stopwords\n",
        "from nltk.tokenize import word_tokenize  # Tokenization\n",
        "from nltk.stem import WordNetLemmatizer  # Lemmatization\n",
        "import spacy                       # Advanced NLP library\n",
        "from spacy.lang.en import English\n",
        "#from spacy.lang.en.stop_words import STOP_WORDS"
      ]
    },
    {
      "cell_type": "code",
      "execution_count": null,
      "metadata": {
        "colab": {
          "base_uri": "https://localhost:8080/"
        },
        "id": "iE7d8VRf2j1u",
        "outputId": "98668d59-b7a3-44fa-d86c-f2745092994f"
      },
      "outputs": [
        {
          "output_type": "stream",
          "name": "stdout",
          "text": [
            "Requirement already satisfied: kaggle in /usr/local/lib/python3.10/dist-packages (1.5.16)\n",
            "Requirement already satisfied: six>=1.10 in /usr/local/lib/python3.10/dist-packages (from kaggle) (1.16.0)\n",
            "Requirement already satisfied: certifi in /usr/local/lib/python3.10/dist-packages (from kaggle) (2024.2.2)\n",
            "Requirement already satisfied: python-dateutil in /usr/local/lib/python3.10/dist-packages (from kaggle) (2.8.2)\n",
            "Requirement already satisfied: requests in /usr/local/lib/python3.10/dist-packages (from kaggle) (2.31.0)\n",
            "Requirement already satisfied: tqdm in /usr/local/lib/python3.10/dist-packages (from kaggle) (4.66.2)\n",
            "Requirement already satisfied: python-slugify in /usr/local/lib/python3.10/dist-packages (from kaggle) (8.0.4)\n",
            "Requirement already satisfied: urllib3 in /usr/local/lib/python3.10/dist-packages (from kaggle) (2.0.7)\n",
            "Requirement already satisfied: bleach in /usr/local/lib/python3.10/dist-packages (from kaggle) (6.1.0)\n",
            "Requirement already satisfied: webencodings in /usr/local/lib/python3.10/dist-packages (from bleach->kaggle) (0.5.1)\n",
            "Requirement already satisfied: text-unidecode>=1.3 in /usr/local/lib/python3.10/dist-packages (from python-slugify->kaggle) (1.3)\n",
            "Requirement already satisfied: charset-normalizer<4,>=2 in /usr/local/lib/python3.10/dist-packages (from requests->kaggle) (3.3.2)\n",
            "Requirement already satisfied: idna<4,>=2.5 in /usr/local/lib/python3.10/dist-packages (from requests->kaggle) (3.6)\n"
          ]
        }
      ],
      "source": [
        "!pip install kaggle"
      ]
    },
    {
      "cell_type": "code",
      "execution_count": null,
      "metadata": {
        "colab": {
          "base_uri": "https://localhost:8080/",
          "height": 142
        },
        "id": "ixGS4wjvtj9y",
        "outputId": "7a83d33f-ea14-4d60-9c22-286e44f13bd9"
      },
      "outputs": [
        {
          "output_type": "display_data",
          "data": {
            "text/plain": [
              "<IPython.core.display.HTML object>"
            ],
            "text/html": [
              "\n",
              "     <input type=\"file\" id=\"files-f7567e4e-6c48-4642-9832-e6e6983e0ddd\" name=\"files[]\" multiple disabled\n",
              "        style=\"border:none\" />\n",
              "     <output id=\"result-f7567e4e-6c48-4642-9832-e6e6983e0ddd\">\n",
              "      Upload widget is only available when the cell has been executed in the\n",
              "      current browser session. Please rerun this cell to enable.\n",
              "      </output>\n",
              "      <script>// Copyright 2017 Google LLC\n",
              "//\n",
              "// Licensed under the Apache License, Version 2.0 (the \"License\");\n",
              "// you may not use this file except in compliance with the License.\n",
              "// You may obtain a copy of the License at\n",
              "//\n",
              "//      http://www.apache.org/licenses/LICENSE-2.0\n",
              "//\n",
              "// Unless required by applicable law or agreed to in writing, software\n",
              "// distributed under the License is distributed on an \"AS IS\" BASIS,\n",
              "// WITHOUT WARRANTIES OR CONDITIONS OF ANY KIND, either express or implied.\n",
              "// See the License for the specific language governing permissions and\n",
              "// limitations under the License.\n",
              "\n",
              "/**\n",
              " * @fileoverview Helpers for google.colab Python module.\n",
              " */\n",
              "(function(scope) {\n",
              "function span(text, styleAttributes = {}) {\n",
              "  const element = document.createElement('span');\n",
              "  element.textContent = text;\n",
              "  for (const key of Object.keys(styleAttributes)) {\n",
              "    element.style[key] = styleAttributes[key];\n",
              "  }\n",
              "  return element;\n",
              "}\n",
              "\n",
              "// Max number of bytes which will be uploaded at a time.\n",
              "const MAX_PAYLOAD_SIZE = 100 * 1024;\n",
              "\n",
              "function _uploadFiles(inputId, outputId) {\n",
              "  const steps = uploadFilesStep(inputId, outputId);\n",
              "  const outputElement = document.getElementById(outputId);\n",
              "  // Cache steps on the outputElement to make it available for the next call\n",
              "  // to uploadFilesContinue from Python.\n",
              "  outputElement.steps = steps;\n",
              "\n",
              "  return _uploadFilesContinue(outputId);\n",
              "}\n",
              "\n",
              "// This is roughly an async generator (not supported in the browser yet),\n",
              "// where there are multiple asynchronous steps and the Python side is going\n",
              "// to poll for completion of each step.\n",
              "// This uses a Promise to block the python side on completion of each step,\n",
              "// then passes the result of the previous step as the input to the next step.\n",
              "function _uploadFilesContinue(outputId) {\n",
              "  const outputElement = document.getElementById(outputId);\n",
              "  const steps = outputElement.steps;\n",
              "\n",
              "  const next = steps.next(outputElement.lastPromiseValue);\n",
              "  return Promise.resolve(next.value.promise).then((value) => {\n",
              "    // Cache the last promise value to make it available to the next\n",
              "    // step of the generator.\n",
              "    outputElement.lastPromiseValue = value;\n",
              "    return next.value.response;\n",
              "  });\n",
              "}\n",
              "\n",
              "/**\n",
              " * Generator function which is called between each async step of the upload\n",
              " * process.\n",
              " * @param {string} inputId Element ID of the input file picker element.\n",
              " * @param {string} outputId Element ID of the output display.\n",
              " * @return {!Iterable<!Object>} Iterable of next steps.\n",
              " */\n",
              "function* uploadFilesStep(inputId, outputId) {\n",
              "  const inputElement = document.getElementById(inputId);\n",
              "  inputElement.disabled = false;\n",
              "\n",
              "  const outputElement = document.getElementById(outputId);\n",
              "  outputElement.innerHTML = '';\n",
              "\n",
              "  const pickedPromise = new Promise((resolve) => {\n",
              "    inputElement.addEventListener('change', (e) => {\n",
              "      resolve(e.target.files);\n",
              "    });\n",
              "  });\n",
              "\n",
              "  const cancel = document.createElement('button');\n",
              "  inputElement.parentElement.appendChild(cancel);\n",
              "  cancel.textContent = 'Cancel upload';\n",
              "  const cancelPromise = new Promise((resolve) => {\n",
              "    cancel.onclick = () => {\n",
              "      resolve(null);\n",
              "    };\n",
              "  });\n",
              "\n",
              "  // Wait for the user to pick the files.\n",
              "  const files = yield {\n",
              "    promise: Promise.race([pickedPromise, cancelPromise]),\n",
              "    response: {\n",
              "      action: 'starting',\n",
              "    }\n",
              "  };\n",
              "\n",
              "  cancel.remove();\n",
              "\n",
              "  // Disable the input element since further picks are not allowed.\n",
              "  inputElement.disabled = true;\n",
              "\n",
              "  if (!files) {\n",
              "    return {\n",
              "      response: {\n",
              "        action: 'complete',\n",
              "      }\n",
              "    };\n",
              "  }\n",
              "\n",
              "  for (const file of files) {\n",
              "    const li = document.createElement('li');\n",
              "    li.append(span(file.name, {fontWeight: 'bold'}));\n",
              "    li.append(span(\n",
              "        `(${file.type || 'n/a'}) - ${file.size} bytes, ` +\n",
              "        `last modified: ${\n",
              "            file.lastModifiedDate ? file.lastModifiedDate.toLocaleDateString() :\n",
              "                                    'n/a'} - `));\n",
              "    const percent = span('0% done');\n",
              "    li.appendChild(percent);\n",
              "\n",
              "    outputElement.appendChild(li);\n",
              "\n",
              "    const fileDataPromise = new Promise((resolve) => {\n",
              "      const reader = new FileReader();\n",
              "      reader.onload = (e) => {\n",
              "        resolve(e.target.result);\n",
              "      };\n",
              "      reader.readAsArrayBuffer(file);\n",
              "    });\n",
              "    // Wait for the data to be ready.\n",
              "    let fileData = yield {\n",
              "      promise: fileDataPromise,\n",
              "      response: {\n",
              "        action: 'continue',\n",
              "      }\n",
              "    };\n",
              "\n",
              "    // Use a chunked sending to avoid message size limits. See b/62115660.\n",
              "    let position = 0;\n",
              "    do {\n",
              "      const length = Math.min(fileData.byteLength - position, MAX_PAYLOAD_SIZE);\n",
              "      const chunk = new Uint8Array(fileData, position, length);\n",
              "      position += length;\n",
              "\n",
              "      const base64 = btoa(String.fromCharCode.apply(null, chunk));\n",
              "      yield {\n",
              "        response: {\n",
              "          action: 'append',\n",
              "          file: file.name,\n",
              "          data: base64,\n",
              "        },\n",
              "      };\n",
              "\n",
              "      let percentDone = fileData.byteLength === 0 ?\n",
              "          100 :\n",
              "          Math.round((position / fileData.byteLength) * 100);\n",
              "      percent.textContent = `${percentDone}% done`;\n",
              "\n",
              "    } while (position < fileData.byteLength);\n",
              "  }\n",
              "\n",
              "  // All done.\n",
              "  yield {\n",
              "    response: {\n",
              "      action: 'complete',\n",
              "    }\n",
              "  };\n",
              "}\n",
              "\n",
              "scope.google = scope.google || {};\n",
              "scope.google.colab = scope.google.colab || {};\n",
              "scope.google.colab._files = {\n",
              "  _uploadFiles,\n",
              "  _uploadFilesContinue,\n",
              "};\n",
              "})(self);\n",
              "</script> "
            ]
          },
          "metadata": {}
        },
        {
          "output_type": "stream",
          "name": "stdout",
          "text": [
            "Saving kaggle.json to kaggle.json\n",
            "Warning: Your Kaggle API key is readable by other users on this system! To fix this, you can run 'chmod 600 /root/.kaggle/kaggle.json'\n",
            "Downloading ai-vs-human-text.zip to /content\n",
            " 99% 346M/350M [00:10<00:00, 37.0MB/s]\n",
            "100% 350M/350M [00:10<00:00, 35.2MB/s]\n"
          ]
        }
      ],
      "source": [
        "from google.colab import files\n",
        "files.upload()  # Upload your Kaggle API token (kaggle.json)\n",
        "!mkdir ~/.kaggle\n",
        "!mv kaggle.json ~/.kaggle/\n",
        "!kaggle datasets download -d shanegerami/ai-vs-human-text\n"
      ]
    },
    {
      "cell_type": "code",
      "execution_count": null,
      "metadata": {
        "colab": {
          "base_uri": "https://localhost:8080/"
        },
        "id": "1vEoUPs_2j1w",
        "outputId": "57fddfaa-00ba-4fab-b739-b6d848ccaaaf"
      },
      "outputs": [
        {
          "output_type": "stream",
          "name": "stdout",
          "text": [
            "Archive:  ai-vs-human-text.zip\n",
            "  inflating: AI_Human.csv            \n"
          ]
        }
      ],
      "source": [
        "!unzip ai-vs-human-text.zip"
      ]
    },
    {
      "cell_type": "code",
      "execution_count": null,
      "metadata": {
        "id": "hndQlGCX2j1w"
      },
      "outputs": [],
      "source": [
        "#load the dataset\n",
        "df = pd.read_csv('AI_Human.csv')"
      ]
    },
    {
      "cell_type": "code",
      "execution_count": null,
      "metadata": {
        "colab": {
          "base_uri": "https://localhost:8080/",
          "height": 206
        },
        "id": "ZiKJRKdy2j1w",
        "outputId": "b3c8cff7-45f3-4fc3-fccf-8dd1971d215f"
      },
      "outputs": [
        {
          "output_type": "execute_result",
          "data": {
            "text/plain": [
              "                                                text  generated\n",
              "0  Cars. Cars have been around since they became ...        0.0\n",
              "1  Transportation is a large necessity in most co...        0.0\n",
              "2  \"America's love affair with it's vehicles seem...        0.0\n",
              "3  How often do you ride in a car? Do you drive a...        0.0\n",
              "4  Cars are a wonderful thing. They are perhaps o...        0.0"
            ],
            "text/html": [
              "\n",
              "  <div id=\"df-0831e0bb-af70-4bc4-8cfa-d784a03fe6ab\" class=\"colab-df-container\">\n",
              "    <div>\n",
              "<style scoped>\n",
              "    .dataframe tbody tr th:only-of-type {\n",
              "        vertical-align: middle;\n",
              "    }\n",
              "\n",
              "    .dataframe tbody tr th {\n",
              "        vertical-align: top;\n",
              "    }\n",
              "\n",
              "    .dataframe thead th {\n",
              "        text-align: right;\n",
              "    }\n",
              "</style>\n",
              "<table border=\"1\" class=\"dataframe\">\n",
              "  <thead>\n",
              "    <tr style=\"text-align: right;\">\n",
              "      <th></th>\n",
              "      <th>text</th>\n",
              "      <th>generated</th>\n",
              "    </tr>\n",
              "  </thead>\n",
              "  <tbody>\n",
              "    <tr>\n",
              "      <th>0</th>\n",
              "      <td>Cars. Cars have been around since they became ...</td>\n",
              "      <td>0.0</td>\n",
              "    </tr>\n",
              "    <tr>\n",
              "      <th>1</th>\n",
              "      <td>Transportation is a large necessity in most co...</td>\n",
              "      <td>0.0</td>\n",
              "    </tr>\n",
              "    <tr>\n",
              "      <th>2</th>\n",
              "      <td>\"America's love affair with it's vehicles seem...</td>\n",
              "      <td>0.0</td>\n",
              "    </tr>\n",
              "    <tr>\n",
              "      <th>3</th>\n",
              "      <td>How often do you ride in a car? Do you drive a...</td>\n",
              "      <td>0.0</td>\n",
              "    </tr>\n",
              "    <tr>\n",
              "      <th>4</th>\n",
              "      <td>Cars are a wonderful thing. They are perhaps o...</td>\n",
              "      <td>0.0</td>\n",
              "    </tr>\n",
              "  </tbody>\n",
              "</table>\n",
              "</div>\n",
              "    <div class=\"colab-df-buttons\">\n",
              "\n",
              "  <div class=\"colab-df-container\">\n",
              "    <button class=\"colab-df-convert\" onclick=\"convertToInteractive('df-0831e0bb-af70-4bc4-8cfa-d784a03fe6ab')\"\n",
              "            title=\"Convert this dataframe to an interactive table.\"\n",
              "            style=\"display:none;\">\n",
              "\n",
              "  <svg xmlns=\"http://www.w3.org/2000/svg\" height=\"24px\" viewBox=\"0 -960 960 960\">\n",
              "    <path d=\"M120-120v-720h720v720H120Zm60-500h600v-160H180v160Zm220 220h160v-160H400v160Zm0 220h160v-160H400v160ZM180-400h160v-160H180v160Zm440 0h160v-160H620v160ZM180-180h160v-160H180v160Zm440 0h160v-160H620v160Z\"/>\n",
              "  </svg>\n",
              "    </button>\n",
              "\n",
              "  <style>\n",
              "    .colab-df-container {\n",
              "      display:flex;\n",
              "      gap: 12px;\n",
              "    }\n",
              "\n",
              "    .colab-df-convert {\n",
              "      background-color: #E8F0FE;\n",
              "      border: none;\n",
              "      border-radius: 50%;\n",
              "      cursor: pointer;\n",
              "      display: none;\n",
              "      fill: #1967D2;\n",
              "      height: 32px;\n",
              "      padding: 0 0 0 0;\n",
              "      width: 32px;\n",
              "    }\n",
              "\n",
              "    .colab-df-convert:hover {\n",
              "      background-color: #E2EBFA;\n",
              "      box-shadow: 0px 1px 2px rgba(60, 64, 67, 0.3), 0px 1px 3px 1px rgba(60, 64, 67, 0.15);\n",
              "      fill: #174EA6;\n",
              "    }\n",
              "\n",
              "    .colab-df-buttons div {\n",
              "      margin-bottom: 4px;\n",
              "    }\n",
              "\n",
              "    [theme=dark] .colab-df-convert {\n",
              "      background-color: #3B4455;\n",
              "      fill: #D2E3FC;\n",
              "    }\n",
              "\n",
              "    [theme=dark] .colab-df-convert:hover {\n",
              "      background-color: #434B5C;\n",
              "      box-shadow: 0px 1px 3px 1px rgba(0, 0, 0, 0.15);\n",
              "      filter: drop-shadow(0px 1px 2px rgba(0, 0, 0, 0.3));\n",
              "      fill: #FFFFFF;\n",
              "    }\n",
              "  </style>\n",
              "\n",
              "    <script>\n",
              "      const buttonEl =\n",
              "        document.querySelector('#df-0831e0bb-af70-4bc4-8cfa-d784a03fe6ab button.colab-df-convert');\n",
              "      buttonEl.style.display =\n",
              "        google.colab.kernel.accessAllowed ? 'block' : 'none';\n",
              "\n",
              "      async function convertToInteractive(key) {\n",
              "        const element = document.querySelector('#df-0831e0bb-af70-4bc4-8cfa-d784a03fe6ab');\n",
              "        const dataTable =\n",
              "          await google.colab.kernel.invokeFunction('convertToInteractive',\n",
              "                                                    [key], {});\n",
              "        if (!dataTable) return;\n",
              "\n",
              "        const docLinkHtml = 'Like what you see? Visit the ' +\n",
              "          '<a target=\"_blank\" href=https://colab.research.google.com/notebooks/data_table.ipynb>data table notebook</a>'\n",
              "          + ' to learn more about interactive tables.';\n",
              "        element.innerHTML = '';\n",
              "        dataTable['output_type'] = 'display_data';\n",
              "        await google.colab.output.renderOutput(dataTable, element);\n",
              "        const docLink = document.createElement('div');\n",
              "        docLink.innerHTML = docLinkHtml;\n",
              "        element.appendChild(docLink);\n",
              "      }\n",
              "    </script>\n",
              "  </div>\n",
              "\n",
              "\n",
              "<div id=\"df-971dd465-edd1-4d63-98ce-0ff0b7bcbcc5\">\n",
              "  <button class=\"colab-df-quickchart\" onclick=\"quickchart('df-971dd465-edd1-4d63-98ce-0ff0b7bcbcc5')\"\n",
              "            title=\"Suggest charts\"\n",
              "            style=\"display:none;\">\n",
              "\n",
              "<svg xmlns=\"http://www.w3.org/2000/svg\" height=\"24px\"viewBox=\"0 0 24 24\"\n",
              "     width=\"24px\">\n",
              "    <g>\n",
              "        <path d=\"M19 3H5c-1.1 0-2 .9-2 2v14c0 1.1.9 2 2 2h14c1.1 0 2-.9 2-2V5c0-1.1-.9-2-2-2zM9 17H7v-7h2v7zm4 0h-2V7h2v10zm4 0h-2v-4h2v4z\"/>\n",
              "    </g>\n",
              "</svg>\n",
              "  </button>\n",
              "\n",
              "<style>\n",
              "  .colab-df-quickchart {\n",
              "      --bg-color: #E8F0FE;\n",
              "      --fill-color: #1967D2;\n",
              "      --hover-bg-color: #E2EBFA;\n",
              "      --hover-fill-color: #174EA6;\n",
              "      --disabled-fill-color: #AAA;\n",
              "      --disabled-bg-color: #DDD;\n",
              "  }\n",
              "\n",
              "  [theme=dark] .colab-df-quickchart {\n",
              "      --bg-color: #3B4455;\n",
              "      --fill-color: #D2E3FC;\n",
              "      --hover-bg-color: #434B5C;\n",
              "      --hover-fill-color: #FFFFFF;\n",
              "      --disabled-bg-color: #3B4455;\n",
              "      --disabled-fill-color: #666;\n",
              "  }\n",
              "\n",
              "  .colab-df-quickchart {\n",
              "    background-color: var(--bg-color);\n",
              "    border: none;\n",
              "    border-radius: 50%;\n",
              "    cursor: pointer;\n",
              "    display: none;\n",
              "    fill: var(--fill-color);\n",
              "    height: 32px;\n",
              "    padding: 0;\n",
              "    width: 32px;\n",
              "  }\n",
              "\n",
              "  .colab-df-quickchart:hover {\n",
              "    background-color: var(--hover-bg-color);\n",
              "    box-shadow: 0 1px 2px rgba(60, 64, 67, 0.3), 0 1px 3px 1px rgba(60, 64, 67, 0.15);\n",
              "    fill: var(--button-hover-fill-color);\n",
              "  }\n",
              "\n",
              "  .colab-df-quickchart-complete:disabled,\n",
              "  .colab-df-quickchart-complete:disabled:hover {\n",
              "    background-color: var(--disabled-bg-color);\n",
              "    fill: var(--disabled-fill-color);\n",
              "    box-shadow: none;\n",
              "  }\n",
              "\n",
              "  .colab-df-spinner {\n",
              "    border: 2px solid var(--fill-color);\n",
              "    border-color: transparent;\n",
              "    border-bottom-color: var(--fill-color);\n",
              "    animation:\n",
              "      spin 1s steps(1) infinite;\n",
              "  }\n",
              "\n",
              "  @keyframes spin {\n",
              "    0% {\n",
              "      border-color: transparent;\n",
              "      border-bottom-color: var(--fill-color);\n",
              "      border-left-color: var(--fill-color);\n",
              "    }\n",
              "    20% {\n",
              "      border-color: transparent;\n",
              "      border-left-color: var(--fill-color);\n",
              "      border-top-color: var(--fill-color);\n",
              "    }\n",
              "    30% {\n",
              "      border-color: transparent;\n",
              "      border-left-color: var(--fill-color);\n",
              "      border-top-color: var(--fill-color);\n",
              "      border-right-color: var(--fill-color);\n",
              "    }\n",
              "    40% {\n",
              "      border-color: transparent;\n",
              "      border-right-color: var(--fill-color);\n",
              "      border-top-color: var(--fill-color);\n",
              "    }\n",
              "    60% {\n",
              "      border-color: transparent;\n",
              "      border-right-color: var(--fill-color);\n",
              "    }\n",
              "    80% {\n",
              "      border-color: transparent;\n",
              "      border-right-color: var(--fill-color);\n",
              "      border-bottom-color: var(--fill-color);\n",
              "    }\n",
              "    90% {\n",
              "      border-color: transparent;\n",
              "      border-bottom-color: var(--fill-color);\n",
              "    }\n",
              "  }\n",
              "</style>\n",
              "\n",
              "  <script>\n",
              "    async function quickchart(key) {\n",
              "      const quickchartButtonEl =\n",
              "        document.querySelector('#' + key + ' button');\n",
              "      quickchartButtonEl.disabled = true;  // To prevent multiple clicks.\n",
              "      quickchartButtonEl.classList.add('colab-df-spinner');\n",
              "      try {\n",
              "        const charts = await google.colab.kernel.invokeFunction(\n",
              "            'suggestCharts', [key], {});\n",
              "      } catch (error) {\n",
              "        console.error('Error during call to suggestCharts:', error);\n",
              "      }\n",
              "      quickchartButtonEl.classList.remove('colab-df-spinner');\n",
              "      quickchartButtonEl.classList.add('colab-df-quickchart-complete');\n",
              "    }\n",
              "    (() => {\n",
              "      let quickchartButtonEl =\n",
              "        document.querySelector('#df-971dd465-edd1-4d63-98ce-0ff0b7bcbcc5 button');\n",
              "      quickchartButtonEl.style.display =\n",
              "        google.colab.kernel.accessAllowed ? 'block' : 'none';\n",
              "    })();\n",
              "  </script>\n",
              "</div>\n",
              "\n",
              "    </div>\n",
              "  </div>\n"
            ],
            "application/vnd.google.colaboratory.intrinsic+json": {
              "type": "dataframe",
              "variable_name": "df"
            }
          },
          "metadata": {},
          "execution_count": 7
        }
      ],
      "source": [
        "#Display the first 5 rows of the DataFrame\n",
        "df.head()"
      ]
    },
    {
      "cell_type": "code",
      "execution_count": null,
      "metadata": {
        "colab": {
          "base_uri": "https://localhost:8080/"
        },
        "id": "4LhDJyAn0Zeh",
        "outputId": "11d4ec95-181d-4342-f7e9-9879f2cabb89"
      },
      "outputs": [
        {
          "output_type": "execute_result",
          "data": {
            "text/plain": [
              "(487235, 2)"
            ]
          },
          "metadata": {},
          "execution_count": 8
        }
      ],
      "source": [
        "#dataset shape\n",
        "df.shape"
      ]
    },
    {
      "cell_type": "code",
      "source": [
        "#take a sample data from dataset\n",
        "df_zeros = df[df['generated'] == 0].head(8000)\n",
        "df_ones = df[df['generated'] == 1].head(8000)"
      ],
      "metadata": {
        "id": "hKo4kMav91Ci"
      },
      "execution_count": null,
      "outputs": []
    },
    {
      "cell_type": "code",
      "source": [
        "new_df = pd.concat([df_zeros, df_ones], ignore_index=True)"
      ],
      "metadata": {
        "id": "XDllIC8y9-W3"
      },
      "execution_count": null,
      "outputs": []
    },
    {
      "cell_type": "code",
      "source": [
        "sample_df = new_df.copy()"
      ],
      "metadata": {
        "id": "7SYhX5r19_C8"
      },
      "execution_count": null,
      "outputs": []
    },
    {
      "cell_type": "code",
      "execution_count": null,
      "metadata": {
        "colab": {
          "base_uri": "https://localhost:8080/"
        },
        "id": "A9qESU042j1x",
        "outputId": "f029a73f-4544-42eb-8ba8-febae3e7ac42"
      },
      "outputs": [
        {
          "output_type": "stream",
          "name": "stdout",
          "text": [
            "<class 'pandas.core.frame.DataFrame'>\n",
            "RangeIndex: 16000 entries, 0 to 15999\n",
            "Data columns (total 2 columns):\n",
            " #   Column     Non-Null Count  Dtype  \n",
            "---  ------     --------------  -----  \n",
            " 0   text       16000 non-null  object \n",
            " 1   generated  16000 non-null  float64\n",
            "dtypes: float64(1), object(1)\n",
            "memory usage: 250.1+ KB\n"
          ]
        }
      ],
      "source": [
        "# information about the DataFrame\n",
        "sample_df.info()"
      ]
    },
    {
      "cell_type": "code",
      "execution_count": null,
      "metadata": {
        "colab": {
          "base_uri": "https://localhost:8080/"
        },
        "id": "_5-8PhdhIuMG",
        "outputId": "54439f3c-de58-417e-cf64-345ac1aae656"
      },
      "outputs": [
        {
          "output_type": "stream",
          "name": "stdout",
          "text": [
            "Total Texts: 16000\n",
            "Human Written Texts: 8000\n",
            "AI Generated Texts: 8000\n"
          ]
        }
      ],
      "source": [
        "#  counts of total texts, human-written texts, and AI-generated texts in the 'generated' column of the DataFrame\n",
        "total_text_count = sample_df['generated'].count()\n",
        "human_written_txt_count = (sample_df['generated'] == 0.0).sum()\n",
        "ai_generated_txt_count = (sample_df['generated'] == 1.0).sum()\n",
        "print('Total Texts:', total_text_count)\n",
        "print('Human Written Texts:', human_written_txt_count )\n",
        "print('AI Generated Texts:', ai_generated_txt_count )\n"
      ]
    },
    {
      "cell_type": "markdown",
      "metadata": {
        "id": "04FNQ0N1xod_"
      },
      "source": [
        "# **02. DATA CLEANING AND PERFORM PREPROCESSING**"
      ]
    },
    {
      "cell_type": "markdown",
      "metadata": {
        "id": "ef6gKkgYWRBe"
      },
      "source": [
        "## ***Remove List of tags  (newline characters and single quotes)***"
      ]
    },
    {
      "cell_type": "code",
      "execution_count": null,
      "metadata": {
        "id": "l8qjNA5KVbx6"
      },
      "outputs": [],
      "source": [
        "# Define a function to remove specific tags from text\n",
        "\n",
        "def remove_tags(text):\n",
        "    # List of tags to remove (newline characters and single quotes)\n",
        "    tags_to_remove = ['\\n', '\\'']\n",
        "\n",
        "    # Iterate through the tags and replace them with an empty string\n",
        "    for tag in tags_to_remove:\n",
        "        if tag == '\\n':\n",
        "            text = text.replace(tag, ' ')\n",
        "        else:\n",
        "            text = text.replace(tag, '')\n",
        "\n",
        "    return text\n",
        "\n",
        "# Apply the remove_tags function to the 'text' column of the DataFrame\n",
        "# This line iterates over all rows in the 'text' column and removes the specified tags\n",
        "sample_df['text'] = sample_df['text'].apply(remove_tags)\n"
      ]
    },
    {
      "cell_type": "markdown",
      "metadata": {
        "id": "wMWc6FGzi3c2"
      },
      "source": [
        "# ***Count of punctuation marks***"
      ]
    },
    {
      "cell_type": "code",
      "execution_count": null,
      "metadata": {
        "id": "VbOpuu1gaiBl"
      },
      "outputs": [],
      "source": [
        "import string\n",
        "from nltk.tokenize import word_tokenize\n",
        "\n",
        "def count_punctuation_marks(text):\n",
        "    punctuation_count = sum(1 for char in text if char in string.punctuation)\n",
        "    return punctuation_count\n",
        "\n",
        "# Create new columns for punctuation and linking words count\n",
        "sample_df['punctuation_count'] = sample_df['text'].apply(count_punctuation_marks)\n",
        "\n"
      ]
    },
    {
      "cell_type": "markdown",
      "metadata": {
        "id": "kQMCR9c8jFZ-"
      },
      "source": [
        "# ***Linking words count***"
      ]
    },
    {
      "cell_type": "code",
      "execution_count": null,
      "metadata": {
        "colab": {
          "base_uri": "https://localhost:8080/"
        },
        "id": "qtQxq5lOh9mR",
        "outputId": "ae154f30-635f-4f1f-e341-98d0542a3790"
      },
      "outputs": [
        {
          "output_type": "stream",
          "name": "stderr",
          "text": [
            "[nltk_data] Downloading package stopwords to /root/nltk_data...\n",
            "[nltk_data]   Unzipping corpora/stopwords.zip.\n",
            "[nltk_data] Downloading package punkt to /root/nltk_data...\n",
            "[nltk_data]   Unzipping tokenizers/punkt.zip.\n"
          ]
        }
      ],
      "source": [
        "from nltk.stem import PorterStemmer\n",
        "\n",
        "nltk.download('stopwords')\n",
        "nltk.download('punkt')\n",
        "\n",
        "# Initialize Porter Stemmer and set of stopwords\n",
        "porter = PorterStemmer()\n",
        "stop_words = set(stopwords.words('english'))\n",
        "\n",
        "# Define additional linking words\n",
        "additional_linking_words = {'to', 'the', 'and', 'of', 'in', 'on', 'for', 'with', 'at', 'a', 'an'}\n",
        "\n",
        "# Combine stopwords and additional linking words\n",
        "linking_words = stop_words.union(additional_linking_words)\n",
        "\n",
        "def count_linking_words(text):\n",
        "    # Tokenize the text and count the number of linking words\n",
        "    linking_words_count = sum(1 for word in word_tokenize(text.lower()) if word in linking_words)\n",
        "    return linking_words_count\n",
        "\n",
        "sample_df['linking_words_count'] = sample_df['text'].apply(count_linking_words)\n"
      ]
    },
    {
      "cell_type": "code",
      "execution_count": null,
      "metadata": {
        "id": "n_oe5ahSqkw6"
      },
      "outputs": [],
      "source": [
        "import pickle\n",
        "\n",
        "# Save the processed DataFrame sample_df and selected columns to a pickle file\n",
        "selected_columns = ['punctuation_count', 'linking_words_count']\n",
        "\n",
        "processed_data = {\n",
        "    'df_p_1': sample_df[selected_columns]\n",
        "}\n",
        "\n",
        "with open('processed_data_1.pkl', 'wb') as f:\n",
        "    pickle.dump(processed_data, f)"
      ]
    },
    {
      "cell_type": "markdown",
      "metadata": {
        "id": "HrdSXQ2mzK2e"
      },
      "source": [
        "# ***Take the word count***"
      ]
    },
    {
      "cell_type": "code",
      "execution_count": null,
      "metadata": {
        "id": "IPj71K9S2hIY"
      },
      "outputs": [],
      "source": [
        "from collections import Counter\n",
        "from nltk.tokenize import word_tokenize\n",
        "# df_2 = sample_df.copy()\n",
        "# # Function to tokenize text and remove stopwords\n",
        "# def tokenize_text(text):\n",
        "#     tokens = word_tokenize(text.lower())\n",
        "#     stop_words = set(stopwords.words('english'))\n",
        "#     return [token for token in tokens if token.isalpha() and token not in stop_words]\n",
        "\n",
        "# Function to count word occurrences in each text\n",
        "def count_word_occurrences(text):\n",
        "    tokens = word_tokenize(text.lower())\n",
        "    word_counts = Counter(tokens)\n",
        "    return sum(word_counts.values())\n",
        "\n",
        "# Create a new column 'word_count' for the total word count in each text\n",
        "sample_df['word_count'] = sample_df['text'].apply(count_word_occurrences)"
      ]
    },
    {
      "cell_type": "code",
      "source": [
        "import pickle\n",
        "\n",
        "# Save the processed DataFrame sample_df and selected columns to a pickle file\n",
        "selected_columns_2 = ['word_count']\n",
        "\n",
        "processed_data = {\n",
        "    'df_p_2': sample_df[selected_columns_2]\n",
        "}\n",
        "\n",
        "with open('processed_data_2.pkl', 'wb') as f:\n",
        "    pickle.dump(processed_data, f)"
      ],
      "metadata": {
        "id": "kCbVCiT_RxcG"
      },
      "execution_count": null,
      "outputs": []
    },
    {
      "cell_type": "markdown",
      "metadata": {
        "id": "oByDNgCVizW3"
      },
      "source": [
        "# ***Finding the length of each text***"
      ]
    },
    {
      "cell_type": "code",
      "execution_count": null,
      "metadata": {
        "id": "QbP72mPpkSXe"
      },
      "outputs": [],
      "source": [
        "from nltk.tokenize import word_tokenize\n",
        "\n",
        "# Function to calculate text length\n",
        "def lengthText(text):\n",
        "    tokens = word_tokenize(text.lower())\n",
        "    return len(tokens)\n",
        "\n",
        "# Calculate text length for each text\n",
        "sample_df['length_text'] = sample_df['text'].apply(lengthText)\n"
      ]
    },
    {
      "cell_type": "markdown",
      "metadata": {
        "id": "SSklbjhqoegJ"
      },
      "source": [
        "# ***Spell Check***"
      ]
    },
    {
      "cell_type": "code",
      "execution_count": null,
      "metadata": {
        "id": "0nL6I_fFolD2",
        "colab": {
          "base_uri": "https://localhost:8080/"
        },
        "outputId": "0df38082-e378-40a5-fcd8-1c46e491ef28"
      },
      "outputs": [
        {
          "output_type": "stream",
          "name": "stdout",
          "text": [
            "Collecting pyspellchecker\n",
            "  Downloading pyspellchecker-0.8.1-py3-none-any.whl (6.8 MB)\n",
            "\u001b[2K     \u001b[90m━━━━━━━━━━━━━━━━━━━━━━━━━━━━━━━━━━━━━━━━\u001b[0m \u001b[32m6.8/6.8 MB\u001b[0m \u001b[31m22.5 MB/s\u001b[0m eta \u001b[36m0:00:00\u001b[0m\n",
            "\u001b[?25hInstalling collected packages: pyspellchecker\n",
            "Successfully installed pyspellchecker-0.8.1\n"
          ]
        }
      ],
      "source": [
        "!pip install pyspellchecker"
      ]
    },
    {
      "cell_type": "markdown",
      "metadata": {
        "id": "bKX4aD1vi681"
      },
      "source": [
        "**'spelling_status' where 1 indicates correct spelling and 0 indicates incorrect spelling**"
      ]
    },
    {
      "cell_type": "code",
      "execution_count": null,
      "metadata": {
        "id": "sariVO3ogIFn",
        "colab": {
          "base_uri": "https://localhost:8080/"
        },
        "outputId": "3fe31233-c4ba-4897-8229-65b4f7b40955"
      },
      "outputs": [
        {
          "output_type": "stream",
          "name": "stderr",
          "text": [
            "[nltk_data] Downloading package words to /root/nltk_data...\n",
            "[nltk_data]   Unzipping corpora/words.zip.\n"
          ]
        }
      ],
      "source": [
        "import nltk\n",
        "from nltk.corpus import words\n",
        "\n",
        "nltk.download('words')\n",
        "english_words = set(words.words())\n",
        "\n",
        "# Function to check if a word is spelled correctly\n",
        "def is_spelled_correctly(word):\n",
        "    return word in english_words\n",
        "\n",
        "# Initialize a list for spelling status\n",
        "spelling_status_list = []\n",
        "\n",
        "# Loop through each row in the 'text' column\n",
        "for word_to_check in sample_df['text']:\n",
        "    if is_spelled_correctly(word_to_check):\n",
        "        spelling_status_list.append(1)  # 1 for correct\n",
        "    else:\n",
        "        spelling_status_list.append(0)  # 0 for incorrect\n",
        "\n",
        "# Add a new column 'spelling_status' to the DataFrame\n",
        "sample_df['spelling_status'] = spelling_status_list"
      ]
    },
    {
      "cell_type": "code",
      "source": [
        "import pickle\n",
        "\n",
        "# Save the processed DataFrame df_1 and selected columns to a pickle file\n",
        "selected_columns_3 = ['spelling_status']\n",
        "\n",
        "processed_data = {\n",
        "    'df_p_3': sample_df[selected_columns_3]\n",
        "}\n",
        "\n",
        "with open('processed_data_3.pkl', 'wb') as f:\n",
        "    pickle.dump(processed_data, f)"
      ],
      "metadata": {
        "id": "dKFLr5PcSfRa"
      },
      "execution_count": null,
      "outputs": []
    },
    {
      "cell_type": "markdown",
      "metadata": {
        "id": "9jrCtpeiPZZK"
      },
      "source": [
        "**Check 1. POS tagger 2. name entity, 3. parser, 4. EDM 5. slangs 6. abbreviations for whole data set**"
      ]
    },
    {
      "cell_type": "markdown",
      "source": [
        "# **Email Detection**"
      ],
      "metadata": {
        "id": "xEo5brtLTUjR"
      }
    },
    {
      "cell_type": "code",
      "source": [
        "def email_detection(text):\n",
        "    email_regex = r'\\b[A-Za-z0-9._%+-]+@[A-Za-z0-9.-]+\\.[A-Z|a-z]{2,}\\b'\n",
        "    return re.findall(email_regex, text, re.IGNORECASE)\n",
        "\n",
        "sample_df['emails'] = sample_df['text'].apply(email_detection)"
      ],
      "metadata": {
        "id": "xlZOekvGPSWX"
      },
      "execution_count": null,
      "outputs": []
    },
    {
      "cell_type": "markdown",
      "source": [
        "# **Slangs Detection**"
      ],
      "metadata": {
        "id": "uuXo3EBwV-OU"
      }
    },
    {
      "cell_type": "code",
      "source": [
        "def slangs_detection(text):\n",
        "    slang_regex = r'\\b(?:lol|brb|omg)\\b'\n",
        "    return re.findall(slang_regex, text, flags=re.IGNORECASE)\n",
        "\n",
        "sample_df['slangs'] = sample_df['text'].apply(slangs_detection)"
      ],
      "metadata": {
        "id": "v4l1dOUfrN3O"
      },
      "execution_count": null,
      "outputs": []
    },
    {
      "cell_type": "code",
      "source": [
        "# # Export to CSV with index included\n",
        "sample_df.to_csv('formatted_dataset.csv')"
      ],
      "metadata": {
        "id": "vVvRf8rR_Hx-"
      },
      "execution_count": null,
      "outputs": []
    },
    {
      "cell_type": "code",
      "source": [
        "# Create a zip file and add the CSV file to it\n",
        "import zipfile\n",
        "with zipfile.ZipFile('formatted_dataset.zip', 'w') as zipf:\n",
        "    zipf.write('formatted_dataset.csv', arcname='formatted_dataset.csv')"
      ],
      "metadata": {
        "id": "lstIT4AeBh43"
      },
      "execution_count": null,
      "outputs": []
    },
    {
      "cell_type": "code",
      "source": [
        "import pickle\n",
        "import gzip\n",
        "\n",
        "# Save the processed DataFrame df_1 and selected columns to a compressed pickle file\n",
        "selected_columns_all = ['text','generated','punctuation_count', 'linking_words_count', 'word_count', 'length_text', 'spelling_status','emails','slangs']\n",
        "\n",
        "processed_data = {\n",
        "    'df_p_all': sample_df[selected_columns_all]\n",
        "}\n",
        "\n",
        "with gzip.open('processed_data_4.pkl.gz', 'wb') as f:\n",
        "    pickle.dump(processed_data, f)\n"
      ],
      "metadata": {
        "id": "MQQDrJEO_ape",
        "colab": {
          "base_uri": "https://localhost:8080/",
          "height": 222
        },
        "outputId": "eb7050eb-9262-453b-d34e-f0d3cbe7c074"
      },
      "execution_count": null,
      "outputs": [
        {
          "output_type": "error",
          "ename": "NameError",
          "evalue": "name 'sample_df' is not defined",
          "traceback": [
            "\u001b[0;31m---------------------------------------------------------------------------\u001b[0m",
            "\u001b[0;31mNameError\u001b[0m                                 Traceback (most recent call last)",
            "\u001b[0;32m<ipython-input-1-59090886d221>\u001b[0m in \u001b[0;36m<cell line: 8>\u001b[0;34m()\u001b[0m\n\u001b[1;32m      6\u001b[0m \u001b[0;34m\u001b[0m\u001b[0m\n\u001b[1;32m      7\u001b[0m processed_data = {\n\u001b[0;32m----> 8\u001b[0;31m     \u001b[0;34m'df_p_all'\u001b[0m\u001b[0;34m:\u001b[0m \u001b[0msample_df\u001b[0m\u001b[0;34m[\u001b[0m\u001b[0mselected_columns_all\u001b[0m\u001b[0;34m]\u001b[0m\u001b[0;34m\u001b[0m\u001b[0;34m\u001b[0m\u001b[0m\n\u001b[0m\u001b[1;32m      9\u001b[0m }\n\u001b[1;32m     10\u001b[0m \u001b[0;34m\u001b[0m\u001b[0m\n",
            "\u001b[0;31mNameError\u001b[0m: name 'sample_df' is not defined"
          ]
        }
      ]
    },
    {
      "cell_type": "markdown",
      "source": [
        "# **Loading sample pickle file**"
      ],
      "metadata": {
        "id": "YEKe-4yYvwkJ"
      }
    },
    {
      "cell_type": "code",
      "source": [
        "#start from here--Namita\n",
        "import pandas as pd\n",
        "import pickle\n",
        "import gzip\n",
        "\n",
        "# Load the compressed pickle file\n",
        "with gzip.open('processed_sample_data_4.pkl.gz', 'rb') as f:\n",
        "    loaded_data = pickle.load(f)\n",
        "\n",
        "# Extract the DataFrame from the loaded data\n",
        "df_preprocessed = loaded_data['df_p_all']\n",
        "\n",
        "# Now you can use df_p_all as your DataFrame"
      ],
      "metadata": {
        "id": "YIxdc8kkp3KU"
      },
      "execution_count": 34,
      "outputs": []
    },
    {
      "cell_type": "code",
      "source": [
        "df_preprocessed"
      ],
      "metadata": {
        "colab": {
          "base_uri": "https://localhost:8080/",
          "height": 423
        },
        "id": "fh2OcZC0Z_8c",
        "outputId": "23db15c4-5cb8-4b9a-df39-2f32420f1c18"
      },
      "execution_count": 35,
      "outputs": [
        {
          "output_type": "execute_result",
          "data": {
            "text/plain": [
              "                                                    text  generated  \\\n",
              "0      Cars. Cars have been around since they became ...        0.0   \n",
              "1      Transportation is a large necessity in most co...        0.0   \n",
              "2      \"Americas love affair with its vehicles seems ...        0.0   \n",
              "3      How often do you ride in a car? Do you drive a...        0.0   \n",
              "4      Cars are a wonderful thing. They are perhaps o...        0.0   \n",
              "...                                                  ...        ...   \n",
              "15995  There is no definitive answer to this question...        1.0   \n",
              "15996  The age-old debate about whether younger peopl...        1.0   \n",
              "15997  It is a common belief that young people enjoy ...        1.0   \n",
              "15998  Life is a precious gift that everyone should c...        1.0   \n",
              "15999  Life is a precious gift that we are given, and...        1.0   \n",
              "\n",
              "       punctuation_count  linking_words_count  word_count  length_text  \\\n",
              "0                     72                  261         654          654   \n",
              "1                     59                  197         521          521   \n",
              "2                     93                  331         835          835   \n",
              "3                    112                  310         793          793   \n",
              "4                    106                  389         963          963   \n",
              "...                  ...                  ...         ...          ...   \n",
              "15995                 19                   71         169          169   \n",
              "15996                 68                  283         632          632   \n",
              "15997                 40                  187         417          417   \n",
              "15998                 57                  211         499          499   \n",
              "15999                 45                  209         455          455   \n",
              "\n",
              "       spelling_status emails slangs  \n",
              "0                    0     []     []  \n",
              "1                    0     []     []  \n",
              "2                    0     []     []  \n",
              "3                    0     []     []  \n",
              "4                    0     []     []  \n",
              "...                ...    ...    ...  \n",
              "15995                0     []     []  \n",
              "15996                0     []     []  \n",
              "15997                0     []     []  \n",
              "15998                0     []     []  \n",
              "15999                0     []     []  \n",
              "\n",
              "[16000 rows x 9 columns]"
            ],
            "text/html": [
              "\n",
              "  <div id=\"df-4974193f-8927-4722-a379-f09215f70d61\" class=\"colab-df-container\">\n",
              "    <div>\n",
              "<style scoped>\n",
              "    .dataframe tbody tr th:only-of-type {\n",
              "        vertical-align: middle;\n",
              "    }\n",
              "\n",
              "    .dataframe tbody tr th {\n",
              "        vertical-align: top;\n",
              "    }\n",
              "\n",
              "    .dataframe thead th {\n",
              "        text-align: right;\n",
              "    }\n",
              "</style>\n",
              "<table border=\"1\" class=\"dataframe\">\n",
              "  <thead>\n",
              "    <tr style=\"text-align: right;\">\n",
              "      <th></th>\n",
              "      <th>text</th>\n",
              "      <th>generated</th>\n",
              "      <th>punctuation_count</th>\n",
              "      <th>linking_words_count</th>\n",
              "      <th>word_count</th>\n",
              "      <th>length_text</th>\n",
              "      <th>spelling_status</th>\n",
              "      <th>emails</th>\n",
              "      <th>slangs</th>\n",
              "    </tr>\n",
              "  </thead>\n",
              "  <tbody>\n",
              "    <tr>\n",
              "      <th>0</th>\n",
              "      <td>Cars. Cars have been around since they became ...</td>\n",
              "      <td>0.0</td>\n",
              "      <td>72</td>\n",
              "      <td>261</td>\n",
              "      <td>654</td>\n",
              "      <td>654</td>\n",
              "      <td>0</td>\n",
              "      <td>[]</td>\n",
              "      <td>[]</td>\n",
              "    </tr>\n",
              "    <tr>\n",
              "      <th>1</th>\n",
              "      <td>Transportation is a large necessity in most co...</td>\n",
              "      <td>0.0</td>\n",
              "      <td>59</td>\n",
              "      <td>197</td>\n",
              "      <td>521</td>\n",
              "      <td>521</td>\n",
              "      <td>0</td>\n",
              "      <td>[]</td>\n",
              "      <td>[]</td>\n",
              "    </tr>\n",
              "    <tr>\n",
              "      <th>2</th>\n",
              "      <td>\"Americas love affair with its vehicles seems ...</td>\n",
              "      <td>0.0</td>\n",
              "      <td>93</td>\n",
              "      <td>331</td>\n",
              "      <td>835</td>\n",
              "      <td>835</td>\n",
              "      <td>0</td>\n",
              "      <td>[]</td>\n",
              "      <td>[]</td>\n",
              "    </tr>\n",
              "    <tr>\n",
              "      <th>3</th>\n",
              "      <td>How often do you ride in a car? Do you drive a...</td>\n",
              "      <td>0.0</td>\n",
              "      <td>112</td>\n",
              "      <td>310</td>\n",
              "      <td>793</td>\n",
              "      <td>793</td>\n",
              "      <td>0</td>\n",
              "      <td>[]</td>\n",
              "      <td>[]</td>\n",
              "    </tr>\n",
              "    <tr>\n",
              "      <th>4</th>\n",
              "      <td>Cars are a wonderful thing. They are perhaps o...</td>\n",
              "      <td>0.0</td>\n",
              "      <td>106</td>\n",
              "      <td>389</td>\n",
              "      <td>963</td>\n",
              "      <td>963</td>\n",
              "      <td>0</td>\n",
              "      <td>[]</td>\n",
              "      <td>[]</td>\n",
              "    </tr>\n",
              "    <tr>\n",
              "      <th>...</th>\n",
              "      <td>...</td>\n",
              "      <td>...</td>\n",
              "      <td>...</td>\n",
              "      <td>...</td>\n",
              "      <td>...</td>\n",
              "      <td>...</td>\n",
              "      <td>...</td>\n",
              "      <td>...</td>\n",
              "      <td>...</td>\n",
              "    </tr>\n",
              "    <tr>\n",
              "      <th>15995</th>\n",
              "      <td>There is no definitive answer to this question...</td>\n",
              "      <td>1.0</td>\n",
              "      <td>19</td>\n",
              "      <td>71</td>\n",
              "      <td>169</td>\n",
              "      <td>169</td>\n",
              "      <td>0</td>\n",
              "      <td>[]</td>\n",
              "      <td>[]</td>\n",
              "    </tr>\n",
              "    <tr>\n",
              "      <th>15996</th>\n",
              "      <td>The age-old debate about whether younger peopl...</td>\n",
              "      <td>1.0</td>\n",
              "      <td>68</td>\n",
              "      <td>283</td>\n",
              "      <td>632</td>\n",
              "      <td>632</td>\n",
              "      <td>0</td>\n",
              "      <td>[]</td>\n",
              "      <td>[]</td>\n",
              "    </tr>\n",
              "    <tr>\n",
              "      <th>15997</th>\n",
              "      <td>It is a common belief that young people enjoy ...</td>\n",
              "      <td>1.0</td>\n",
              "      <td>40</td>\n",
              "      <td>187</td>\n",
              "      <td>417</td>\n",
              "      <td>417</td>\n",
              "      <td>0</td>\n",
              "      <td>[]</td>\n",
              "      <td>[]</td>\n",
              "    </tr>\n",
              "    <tr>\n",
              "      <th>15998</th>\n",
              "      <td>Life is a precious gift that everyone should c...</td>\n",
              "      <td>1.0</td>\n",
              "      <td>57</td>\n",
              "      <td>211</td>\n",
              "      <td>499</td>\n",
              "      <td>499</td>\n",
              "      <td>0</td>\n",
              "      <td>[]</td>\n",
              "      <td>[]</td>\n",
              "    </tr>\n",
              "    <tr>\n",
              "      <th>15999</th>\n",
              "      <td>Life is a precious gift that we are given, and...</td>\n",
              "      <td>1.0</td>\n",
              "      <td>45</td>\n",
              "      <td>209</td>\n",
              "      <td>455</td>\n",
              "      <td>455</td>\n",
              "      <td>0</td>\n",
              "      <td>[]</td>\n",
              "      <td>[]</td>\n",
              "    </tr>\n",
              "  </tbody>\n",
              "</table>\n",
              "<p>16000 rows × 9 columns</p>\n",
              "</div>\n",
              "    <div class=\"colab-df-buttons\">\n",
              "\n",
              "  <div class=\"colab-df-container\">\n",
              "    <button class=\"colab-df-convert\" onclick=\"convertToInteractive('df-4974193f-8927-4722-a379-f09215f70d61')\"\n",
              "            title=\"Convert this dataframe to an interactive table.\"\n",
              "            style=\"display:none;\">\n",
              "\n",
              "  <svg xmlns=\"http://www.w3.org/2000/svg\" height=\"24px\" viewBox=\"0 -960 960 960\">\n",
              "    <path d=\"M120-120v-720h720v720H120Zm60-500h600v-160H180v160Zm220 220h160v-160H400v160Zm0 220h160v-160H400v160ZM180-400h160v-160H180v160Zm440 0h160v-160H620v160ZM180-180h160v-160H180v160Zm440 0h160v-160H620v160Z\"/>\n",
              "  </svg>\n",
              "    </button>\n",
              "\n",
              "  <style>\n",
              "    .colab-df-container {\n",
              "      display:flex;\n",
              "      gap: 12px;\n",
              "    }\n",
              "\n",
              "    .colab-df-convert {\n",
              "      background-color: #E8F0FE;\n",
              "      border: none;\n",
              "      border-radius: 50%;\n",
              "      cursor: pointer;\n",
              "      display: none;\n",
              "      fill: #1967D2;\n",
              "      height: 32px;\n",
              "      padding: 0 0 0 0;\n",
              "      width: 32px;\n",
              "    }\n",
              "\n",
              "    .colab-df-convert:hover {\n",
              "      background-color: #E2EBFA;\n",
              "      box-shadow: 0px 1px 2px rgba(60, 64, 67, 0.3), 0px 1px 3px 1px rgba(60, 64, 67, 0.15);\n",
              "      fill: #174EA6;\n",
              "    }\n",
              "\n",
              "    .colab-df-buttons div {\n",
              "      margin-bottom: 4px;\n",
              "    }\n",
              "\n",
              "    [theme=dark] .colab-df-convert {\n",
              "      background-color: #3B4455;\n",
              "      fill: #D2E3FC;\n",
              "    }\n",
              "\n",
              "    [theme=dark] .colab-df-convert:hover {\n",
              "      background-color: #434B5C;\n",
              "      box-shadow: 0px 1px 3px 1px rgba(0, 0, 0, 0.15);\n",
              "      filter: drop-shadow(0px 1px 2px rgba(0, 0, 0, 0.3));\n",
              "      fill: #FFFFFF;\n",
              "    }\n",
              "  </style>\n",
              "\n",
              "    <script>\n",
              "      const buttonEl =\n",
              "        document.querySelector('#df-4974193f-8927-4722-a379-f09215f70d61 button.colab-df-convert');\n",
              "      buttonEl.style.display =\n",
              "        google.colab.kernel.accessAllowed ? 'block' : 'none';\n",
              "\n",
              "      async function convertToInteractive(key) {\n",
              "        const element = document.querySelector('#df-4974193f-8927-4722-a379-f09215f70d61');\n",
              "        const dataTable =\n",
              "          await google.colab.kernel.invokeFunction('convertToInteractive',\n",
              "                                                    [key], {});\n",
              "        if (!dataTable) return;\n",
              "\n",
              "        const docLinkHtml = 'Like what you see? Visit the ' +\n",
              "          '<a target=\"_blank\" href=https://colab.research.google.com/notebooks/data_table.ipynb>data table notebook</a>'\n",
              "          + ' to learn more about interactive tables.';\n",
              "        element.innerHTML = '';\n",
              "        dataTable['output_type'] = 'display_data';\n",
              "        await google.colab.output.renderOutput(dataTable, element);\n",
              "        const docLink = document.createElement('div');\n",
              "        docLink.innerHTML = docLinkHtml;\n",
              "        element.appendChild(docLink);\n",
              "      }\n",
              "    </script>\n",
              "  </div>\n",
              "\n",
              "\n",
              "<div id=\"df-096b4408-f7bf-4d5a-aba8-2e6f7c3ad126\">\n",
              "  <button class=\"colab-df-quickchart\" onclick=\"quickchart('df-096b4408-f7bf-4d5a-aba8-2e6f7c3ad126')\"\n",
              "            title=\"Suggest charts\"\n",
              "            style=\"display:none;\">\n",
              "\n",
              "<svg xmlns=\"http://www.w3.org/2000/svg\" height=\"24px\"viewBox=\"0 0 24 24\"\n",
              "     width=\"24px\">\n",
              "    <g>\n",
              "        <path d=\"M19 3H5c-1.1 0-2 .9-2 2v14c0 1.1.9 2 2 2h14c1.1 0 2-.9 2-2V5c0-1.1-.9-2-2-2zM9 17H7v-7h2v7zm4 0h-2V7h2v10zm4 0h-2v-4h2v4z\"/>\n",
              "    </g>\n",
              "</svg>\n",
              "  </button>\n",
              "\n",
              "<style>\n",
              "  .colab-df-quickchart {\n",
              "      --bg-color: #E8F0FE;\n",
              "      --fill-color: #1967D2;\n",
              "      --hover-bg-color: #E2EBFA;\n",
              "      --hover-fill-color: #174EA6;\n",
              "      --disabled-fill-color: #AAA;\n",
              "      --disabled-bg-color: #DDD;\n",
              "  }\n",
              "\n",
              "  [theme=dark] .colab-df-quickchart {\n",
              "      --bg-color: #3B4455;\n",
              "      --fill-color: #D2E3FC;\n",
              "      --hover-bg-color: #434B5C;\n",
              "      --hover-fill-color: #FFFFFF;\n",
              "      --disabled-bg-color: #3B4455;\n",
              "      --disabled-fill-color: #666;\n",
              "  }\n",
              "\n",
              "  .colab-df-quickchart {\n",
              "    background-color: var(--bg-color);\n",
              "    border: none;\n",
              "    border-radius: 50%;\n",
              "    cursor: pointer;\n",
              "    display: none;\n",
              "    fill: var(--fill-color);\n",
              "    height: 32px;\n",
              "    padding: 0;\n",
              "    width: 32px;\n",
              "  }\n",
              "\n",
              "  .colab-df-quickchart:hover {\n",
              "    background-color: var(--hover-bg-color);\n",
              "    box-shadow: 0 1px 2px rgba(60, 64, 67, 0.3), 0 1px 3px 1px rgba(60, 64, 67, 0.15);\n",
              "    fill: var(--button-hover-fill-color);\n",
              "  }\n",
              "\n",
              "  .colab-df-quickchart-complete:disabled,\n",
              "  .colab-df-quickchart-complete:disabled:hover {\n",
              "    background-color: var(--disabled-bg-color);\n",
              "    fill: var(--disabled-fill-color);\n",
              "    box-shadow: none;\n",
              "  }\n",
              "\n",
              "  .colab-df-spinner {\n",
              "    border: 2px solid var(--fill-color);\n",
              "    border-color: transparent;\n",
              "    border-bottom-color: var(--fill-color);\n",
              "    animation:\n",
              "      spin 1s steps(1) infinite;\n",
              "  }\n",
              "\n",
              "  @keyframes spin {\n",
              "    0% {\n",
              "      border-color: transparent;\n",
              "      border-bottom-color: var(--fill-color);\n",
              "      border-left-color: var(--fill-color);\n",
              "    }\n",
              "    20% {\n",
              "      border-color: transparent;\n",
              "      border-left-color: var(--fill-color);\n",
              "      border-top-color: var(--fill-color);\n",
              "    }\n",
              "    30% {\n",
              "      border-color: transparent;\n",
              "      border-left-color: var(--fill-color);\n",
              "      border-top-color: var(--fill-color);\n",
              "      border-right-color: var(--fill-color);\n",
              "    }\n",
              "    40% {\n",
              "      border-color: transparent;\n",
              "      border-right-color: var(--fill-color);\n",
              "      border-top-color: var(--fill-color);\n",
              "    }\n",
              "    60% {\n",
              "      border-color: transparent;\n",
              "      border-right-color: var(--fill-color);\n",
              "    }\n",
              "    80% {\n",
              "      border-color: transparent;\n",
              "      border-right-color: var(--fill-color);\n",
              "      border-bottom-color: var(--fill-color);\n",
              "    }\n",
              "    90% {\n",
              "      border-color: transparent;\n",
              "      border-bottom-color: var(--fill-color);\n",
              "    }\n",
              "  }\n",
              "</style>\n",
              "\n",
              "  <script>\n",
              "    async function quickchart(key) {\n",
              "      const quickchartButtonEl =\n",
              "        document.querySelector('#' + key + ' button');\n",
              "      quickchartButtonEl.disabled = true;  // To prevent multiple clicks.\n",
              "      quickchartButtonEl.classList.add('colab-df-spinner');\n",
              "      try {\n",
              "        const charts = await google.colab.kernel.invokeFunction(\n",
              "            'suggestCharts', [key], {});\n",
              "      } catch (error) {\n",
              "        console.error('Error during call to suggestCharts:', error);\n",
              "      }\n",
              "      quickchartButtonEl.classList.remove('colab-df-spinner');\n",
              "      quickchartButtonEl.classList.add('colab-df-quickchart-complete');\n",
              "    }\n",
              "    (() => {\n",
              "      let quickchartButtonEl =\n",
              "        document.querySelector('#df-096b4408-f7bf-4d5a-aba8-2e6f7c3ad126 button');\n",
              "      quickchartButtonEl.style.display =\n",
              "        google.colab.kernel.accessAllowed ? 'block' : 'none';\n",
              "    })();\n",
              "  </script>\n",
              "</div>\n",
              "\n",
              "  <div id=\"id_02043a35-5e19-4eba-88f5-ab766bd7e933\">\n",
              "    <style>\n",
              "      .colab-df-generate {\n",
              "        background-color: #E8F0FE;\n",
              "        border: none;\n",
              "        border-radius: 50%;\n",
              "        cursor: pointer;\n",
              "        display: none;\n",
              "        fill: #1967D2;\n",
              "        height: 32px;\n",
              "        padding: 0 0 0 0;\n",
              "        width: 32px;\n",
              "      }\n",
              "\n",
              "      .colab-df-generate:hover {\n",
              "        background-color: #E2EBFA;\n",
              "        box-shadow: 0px 1px 2px rgba(60, 64, 67, 0.3), 0px 1px 3px 1px rgba(60, 64, 67, 0.15);\n",
              "        fill: #174EA6;\n",
              "      }\n",
              "\n",
              "      [theme=dark] .colab-df-generate {\n",
              "        background-color: #3B4455;\n",
              "        fill: #D2E3FC;\n",
              "      }\n",
              "\n",
              "      [theme=dark] .colab-df-generate:hover {\n",
              "        background-color: #434B5C;\n",
              "        box-shadow: 0px 1px 3px 1px rgba(0, 0, 0, 0.15);\n",
              "        filter: drop-shadow(0px 1px 2px rgba(0, 0, 0, 0.3));\n",
              "        fill: #FFFFFF;\n",
              "      }\n",
              "    </style>\n",
              "    <button class=\"colab-df-generate\" onclick=\"generateWithVariable('df_preprocessed')\"\n",
              "            title=\"Generate code using this dataframe.\"\n",
              "            style=\"display:none;\">\n",
              "\n",
              "  <svg xmlns=\"http://www.w3.org/2000/svg\" height=\"24px\"viewBox=\"0 0 24 24\"\n",
              "       width=\"24px\">\n",
              "    <path d=\"M7,19H8.4L18.45,9,17,7.55,7,17.6ZM5,21V16.75L18.45,3.32a2,2,0,0,1,2.83,0l1.4,1.43a1.91,1.91,0,0,1,.58,1.4,1.91,1.91,0,0,1-.58,1.4L9.25,21ZM18.45,9,17,7.55Zm-12,3A5.31,5.31,0,0,0,4.9,8.1,5.31,5.31,0,0,0,1,6.5,5.31,5.31,0,0,0,4.9,4.9,5.31,5.31,0,0,0,6.5,1,5.31,5.31,0,0,0,8.1,4.9,5.31,5.31,0,0,0,12,6.5,5.46,5.46,0,0,0,6.5,12Z\"/>\n",
              "  </svg>\n",
              "    </button>\n",
              "    <script>\n",
              "      (() => {\n",
              "      const buttonEl =\n",
              "        document.querySelector('#id_02043a35-5e19-4eba-88f5-ab766bd7e933 button.colab-df-generate');\n",
              "      buttonEl.style.display =\n",
              "        google.colab.kernel.accessAllowed ? 'block' : 'none';\n",
              "\n",
              "      buttonEl.onclick = () => {\n",
              "        google.colab.notebook.generateWithVariable('df_preprocessed');\n",
              "      }\n",
              "      })();\n",
              "    </script>\n",
              "  </div>\n",
              "\n",
              "    </div>\n",
              "  </div>\n"
            ],
            "application/vnd.google.colaboratory.intrinsic+json": {
              "type": "dataframe",
              "variable_name": "df_preprocessed",
              "summary": "{\n  \"name\": \"df_preprocessed\",\n  \"rows\": 16000,\n  \"fields\": [\n    {\n      \"column\": \"text\",\n      \"properties\": {\n        \"dtype\": \"string\",\n        \"num_unique_values\": 16000,\n        \"samples\": [\n          \"Maintaining the Electoral College or Transitioning to Popular Vote for Presidential Elections  Dear [Senators Last Name],  I am writing to express my opinion on the topic of the Electoral College and its role in determining the President of the United States. After carefully considering the information provided in various texts, including the summaries you provided, I believe that maintaining the Electoral College is in the best interest of our democratic system.  First and foremost, the Electoral College is a process that was established by our founding fathers as a compromise between election by Congress and direct popular vote. As outlined by the Office of the Federal Register, the Electoral College consists of 538 electors, and a candidate needs at least 270 electoral votes to be elected as President. This ensures that candidates have to gain support from a diverse range of states rather than relying solely on the popular vote, thus ensuring that the President represents the interests of a broader spectrum of citizens.  A major advantage of the Electoral College, as highlighted by Judge Richard A. Posner, is the certainty it provides in determining the outcome of an election. By awarding electoral votes on a winner-take-all basis, we avoid disputes over the popular vote. Even if a candidate has a slight advantage in a state, they receive all the electoral votes from that state. This helps prevent the need for tedious recounts and minimizes the potential for controversy surrounding the election results.  Additionally, the Electoral College encourages candidates to campaign more widely across multiple states. Posner emphasizes that candidates must have trans-regional appeal to win the necessary electoral votes. This system prevents candidates from solely focusing on densely populated or swing states, as they need support from a variety of regions. Therefore, it ensures that the President does not overlook the interests of citizens from different parts of the country. Furthermore, it encourages candidates to address the concerns and needs of residents in smaller or less populated states, ensuring their voices are heard in the election process.  Moreover, the Electoral College provides a balance to the political influence of large states compared to smaller ones. As Posner explains, the mal-apportionment of the Senate in the Constitution gives smaller states less political weight. By assigning electoral votes based on congressional representation, the Electoral College restores some of the weight to large states, enabling more attention from presidential candidates. This system prevents the disenfranchisement of citizens in large states and maintains the relevance of their voices in the election process.  Lastly, the Electoral College eliminates the need for run-off elections, which can complicate the election process. Instead, it consistently produces a clear winner. This is crucial in ensuring a stable and efficient transfer of power, preventing prolonged periods of uncertainty and potential political turmoil.  While there are valid arguments against the Electoral College, such as the issue of regional favoritism, I believe that the benefits it offers outweigh the drawbacks. It helps maintain a balance between large and small states, encourages candidates to campaign widely, and ensures a clear outcome in the election process.  In conclusion, I urge you to consider the importance of maintaining the Electoral College or potentially exploring alternative solutions that keep its key principles intact. It is essential to protect the fairness, stability, and representativeness of our democratic system. Thank you for your time and consideration.  Sincerely,  [Your Name]\",\n          \"\\\"Therefore scientist seeking to conduct a thorough mission to understand Venus would need to get up close and personal despite the risks. Or maybe we should think of them as challenges\\\"(paragraph 6) . This supports the authors claim that studying Venus is a worthy pursuit despite the dangers because in this quote it supports the idea that instead of thinking of this mission as a risk, think of it as a challenge. A risk is when something bad can happen as a result of failing where as a challenge is a reward you will get if the operation is a success.  Why would some people consider getting a closer look at Venus a challenge and not a risk? \\\"A thick atmosphere of almost 97 percent carbon dioxide blankets Venus. On the planets surface, temperatures average over 800 degrees Fahrenheit, and the atmospheric pressure is 90 times greater than what we experience on our own planet. These conditions are far more extreme than anything huimans encounter on Earth\\\" (paragraph 3). This supports the idea that going to Venus does have some dangers. On Earth we have never expierienced 800 degree weather. To top it off, the atomosphere is 97 percent carbon dioxide. This would make it extremly difficult for us to even breath on Venus. \\\"Modern computers are enormous;y powerful, flexible, and quick, but tend to be more delicate when it comes to extreme nphysical conditions. Just imagine exposing a cell phone or tablet to acid or heat capable of melting tin. By comparison, systems that use mechanical parts can be made more resistant to pressure, heat, and other forces.\\\" This supports the idea that in order for them to get to Venus they must produce a device that will be able to make it through the mission withought burning up. They also have to think about how the human who on the mission are going to stay cool in the scorching conditions of Venus. This supports the idea that going to Venus for a closer look may perhaps be a risk.  Why may some people see going to Venus as a challenge? \\\"Striving to meet the challenge presented by Venus has value, not only because of the insight to be gained on the planet itself, but also because human curiosity will likely lead us into many equally intimidating endeavors\\\" (paragraph 8). This supports the idea that going to Venus is a challenge because not only will they gain insight of the planet, but it will lead them into even more intimidating endeavors do to our curiosity as humans. \\\"Our travels on Earth and beyond should not be limited by the dangers and doubts but should be expanded to meet the very edges of imagination and innovation\\\"(paragraph 8). This quote supports the idea that our travels should not be limited because of dangers and doubts but they should actually expand so that we can live up to our innovation and imagination.  How could this challenge and/or risk be a worthy pursuit despite the dangers? \\\"Often reffered to as Earths \\\"twin\\\", Venus is the closest planet to Erath in terms of density and size, and occasionally the closest in distance too.\\\" This supports the idea that not only is Venus a close planet to us in density and size, but is is close to us in distance too. Therefore, If we cant make it to Venus and its one of the closest planets to us, how are we supposed to explore other places in the solar system in the near future? It is also important so that we could gain insight of the planet and see what Earth and Venus really have in common.  In conclusion, a risk is when something bad can happen as a result of failing. A challenge is when you will recieve a reward if the operation is a success. Either way the author claims that it is a worthy pursuit to closley examine Mars. Not only will it give us gainful insight of the planet, but as humans, all of us are very curious.\",\n          \"Everyone remembers mars the planet that Nasa was trying to get on to see if its possible to live on? Well now they changed into a diffrent planet called Venus.  The author of the article \\\"The challenge of exploring Venus\\\" is stating his choice on what Nasa is doing. He is making it very clear that he wants people to explore Venus. He gave a hint in one part of his story. For example he says \\\"Striving to meet the challenge presented by Venus has valuse, not only becuase og insite to be gained on the planet its self.\\\" Hes is giving his full suport on Nasas choice to go and study Venus. He also is saying to keep trying even though it is dangerous. In the text it says that \\\"A thick atmoshpere of almost 97% carbon dioxide blankets Venus.\\\" This Is saying that its very dangerousover there on Venus and the pressure could destroy everything there.  In Conclusion he gives his full support no matter what. He is hoping that they keep striving to find a way to successsfuly accomplish whatever they need to do.\"\n        ],\n        \"semantic_type\": \"\",\n        \"description\": \"\"\n      }\n    },\n    {\n      \"column\": \"generated\",\n      \"properties\": {\n        \"dtype\": \"number\",\n        \"std\": 0.5000156257324601,\n        \"min\": 0.0,\n        \"max\": 1.0,\n        \"num_unique_values\": 2,\n        \"samples\": [\n          1.0,\n          0.0\n        ],\n        \"semantic_type\": \"\",\n        \"description\": \"\"\n      }\n    },\n    {\n      \"column\": \"punctuation_count\",\n      \"properties\": {\n        \"dtype\": \"number\",\n        \"std\": 26,\n        \"min\": 1,\n        \"max\": 369,\n        \"num_unique_values\": 199,\n        \"samples\": [\n          28,\n          60\n        ],\n        \"semantic_type\": \"\",\n        \"description\": \"\"\n      }\n    },\n    {\n      \"column\": \"linking_words_count\",\n      \"properties\": {\n        \"dtype\": \"number\",\n        \"std\": 80,\n        \"min\": 0,\n        \"max\": 846,\n        \"num_unique_values\": 478,\n        \"samples\": [\n          33,\n          171\n        ],\n        \"semantic_type\": \"\",\n        \"description\": \"\"\n      }\n    },\n    {\n      \"column\": \"word_count\",\n      \"properties\": {\n        \"dtype\": \"number\",\n        \"std\": 191,\n        \"min\": 1,\n        \"max\": 1741,\n        \"num_unique_values\": 1005,\n        \"samples\": [\n          83,\n          331\n        ],\n        \"semantic_type\": \"\",\n        \"description\": \"\"\n      }\n    },\n    {\n      \"column\": \"length_text\",\n      \"properties\": {\n        \"dtype\": \"number\",\n        \"std\": 191,\n        \"min\": 1,\n        \"max\": 1741,\n        \"num_unique_values\": 1005,\n        \"samples\": [\n          83,\n          331\n        ],\n        \"semantic_type\": \"\",\n        \"description\": \"\"\n      }\n    },\n    {\n      \"column\": \"spelling_status\",\n      \"properties\": {\n        \"dtype\": \"number\",\n        \"std\": 0,\n        \"min\": 0,\n        \"max\": 0,\n        \"num_unique_values\": 1,\n        \"samples\": [\n          0\n        ],\n        \"semantic_type\": \"\",\n        \"description\": \"\"\n      }\n    },\n    {\n      \"column\": \"emails\",\n      \"properties\": {\n        \"dtype\": \"object\",\n        \"semantic_type\": \"\",\n        \"description\": \"\"\n      }\n    },\n    {\n      \"column\": \"slangs\",\n      \"properties\": {\n        \"dtype\": \"object\",\n        \"semantic_type\": \"\",\n        \"description\": \"\"\n      }\n    }\n  ]\n}"
            }
          },
          "metadata": {},
          "execution_count": 35
        }
      ]
    },
    {
      "cell_type": "code",
      "source": [
        "def extract_features(text):\n",
        "    # Character count\n",
        "    char_count = len(text)\n",
        "\n",
        "    # Word count\n",
        "    word_count = len(text.split())\n",
        "\n",
        "    # Average word length\n",
        "    avg_word_length = sum(len(word) for word in text.split()) / word_count if word_count > 0 else 0\n",
        "\n",
        "    # Count of uppercase letters\n",
        "    uppercase_count = sum(1 for char in text if char.isupper())\n",
        "\n",
        "    # Count of digits\n",
        "    digit_count = sum(1 for char in text if char.isdigit())\n",
        "\n",
        "    return char_count, word_count, avg_word_length, uppercase_count, digit_count"
      ],
      "metadata": {
        "id": "vlFHhreIll_s"
      },
      "execution_count": 36,
      "outputs": []
    },
    {
      "cell_type": "code",
      "source": [
        "# Apply feature extraction function to each text\n",
        "df_preprocessed['char_count'], df_preprocessed['word_count'], df_preprocessed['avg_word_length'], df_preprocessed['uppercase_count'], df_preprocessed['digit_count'] = zip(*df_preprocessed['text'].map(extract_features))"
      ],
      "metadata": {
        "id": "rJFGcrXUmeCY"
      },
      "execution_count": 37,
      "outputs": []
    },
    {
      "cell_type": "code",
      "source": [
        "# Save the DataFrame with extracted features to a new compressed pickle file\n",
        "selected_columns_with_features = ['text', 'generated', 'punctuation_count', 'linking_words_count', 'word_count', 'char_count', 'avg_word_length', 'uppercase_count', 'digit_count', 'length_text', 'spelling_status', 'emails', 'slangs']\n",
        "processed_data_with_features = {'df_with_features': df_preprocessed[selected_columns_with_features]}\n",
        "\n",
        "with gzip.open('processed_data_with_features.pkl.gz', 'wb') as f:\n",
        "    pickle.dump(processed_data_with_features, f)"
      ],
      "metadata": {
        "id": "mAwe35TRn59w"
      },
      "execution_count": 38,
      "outputs": []
    },
    {
      "cell_type": "code",
      "source": [
        "# Load the compressed pickle file with the processed data and features\n",
        "with gzip.open('processed_data_with_features.pkl.gz', 'rb') as f:\n",
        "    loaded_data = pickle.load(f)"
      ],
      "metadata": {
        "id": "Qiy4ZdUroyK0"
      },
      "execution_count": 39,
      "outputs": []
    },
    {
      "cell_type": "code",
      "source": [
        "# Extract the DataFrame with features from the loaded data\n",
        "df_with_features = loaded_data['df_with_features']"
      ],
      "metadata": {
        "id": "iNSAQACIo15N"
      },
      "execution_count": 40,
      "outputs": []
    },
    {
      "cell_type": "code",
      "source": [
        "# Display the DataFrame\n",
        "df_with_features.head()"
      ],
      "metadata": {
        "id": "4ARFE5Mco4n6",
        "outputId": "f652e44b-00fd-4be6-d7d0-d9fa315c17f0",
        "colab": {
          "base_uri": "https://localhost:8080/",
          "height": 397
        }
      },
      "execution_count": 41,
      "outputs": [
        {
          "output_type": "execute_result",
          "data": {
            "text/plain": [
              "                                                text  generated  \\\n",
              "0  Cars. Cars have been around since they became ...        0.0   \n",
              "1  Transportation is a large necessity in most co...        0.0   \n",
              "2  \"Americas love affair with its vehicles seems ...        0.0   \n",
              "3  How often do you ride in a car? Do you drive a...        0.0   \n",
              "4  Cars are a wonderful thing. They are perhaps o...        0.0   \n",
              "\n",
              "   punctuation_count  linking_words_count  word_count  char_count  \\\n",
              "0                 72                  261         584        3286   \n",
              "1                 59                  197         462        2733   \n",
              "2                 93                  331         744        4420   \n",
              "3                112                  310         686        4001   \n",
              "4                106                  389         871        4694   \n",
              "\n",
              "   avg_word_length  uppercase_count  digit_count  length_text  \\\n",
              "0         4.623288               59           13          654   \n",
              "1         4.909091               46           16          521   \n",
              "2         4.936828               62            0          835   \n",
              "3         4.830904               77            1          793   \n",
              "4         4.386912               74           11          963   \n",
              "\n",
              "   spelling_status emails slangs  \n",
              "0                0     []     []  \n",
              "1                0     []     []  \n",
              "2                0     []     []  \n",
              "3                0     []     []  \n",
              "4                0     []     []  "
            ],
            "text/html": [
              "\n",
              "  <div id=\"df-dd5db090-7df3-422d-860f-64dd2e1e2af5\" class=\"colab-df-container\">\n",
              "    <div>\n",
              "<style scoped>\n",
              "    .dataframe tbody tr th:only-of-type {\n",
              "        vertical-align: middle;\n",
              "    }\n",
              "\n",
              "    .dataframe tbody tr th {\n",
              "        vertical-align: top;\n",
              "    }\n",
              "\n",
              "    .dataframe thead th {\n",
              "        text-align: right;\n",
              "    }\n",
              "</style>\n",
              "<table border=\"1\" class=\"dataframe\">\n",
              "  <thead>\n",
              "    <tr style=\"text-align: right;\">\n",
              "      <th></th>\n",
              "      <th>text</th>\n",
              "      <th>generated</th>\n",
              "      <th>punctuation_count</th>\n",
              "      <th>linking_words_count</th>\n",
              "      <th>word_count</th>\n",
              "      <th>char_count</th>\n",
              "      <th>avg_word_length</th>\n",
              "      <th>uppercase_count</th>\n",
              "      <th>digit_count</th>\n",
              "      <th>length_text</th>\n",
              "      <th>spelling_status</th>\n",
              "      <th>emails</th>\n",
              "      <th>slangs</th>\n",
              "    </tr>\n",
              "  </thead>\n",
              "  <tbody>\n",
              "    <tr>\n",
              "      <th>0</th>\n",
              "      <td>Cars. Cars have been around since they became ...</td>\n",
              "      <td>0.0</td>\n",
              "      <td>72</td>\n",
              "      <td>261</td>\n",
              "      <td>584</td>\n",
              "      <td>3286</td>\n",
              "      <td>4.623288</td>\n",
              "      <td>59</td>\n",
              "      <td>13</td>\n",
              "      <td>654</td>\n",
              "      <td>0</td>\n",
              "      <td>[]</td>\n",
              "      <td>[]</td>\n",
              "    </tr>\n",
              "    <tr>\n",
              "      <th>1</th>\n",
              "      <td>Transportation is a large necessity in most co...</td>\n",
              "      <td>0.0</td>\n",
              "      <td>59</td>\n",
              "      <td>197</td>\n",
              "      <td>462</td>\n",
              "      <td>2733</td>\n",
              "      <td>4.909091</td>\n",
              "      <td>46</td>\n",
              "      <td>16</td>\n",
              "      <td>521</td>\n",
              "      <td>0</td>\n",
              "      <td>[]</td>\n",
              "      <td>[]</td>\n",
              "    </tr>\n",
              "    <tr>\n",
              "      <th>2</th>\n",
              "      <td>\"Americas love affair with its vehicles seems ...</td>\n",
              "      <td>0.0</td>\n",
              "      <td>93</td>\n",
              "      <td>331</td>\n",
              "      <td>744</td>\n",
              "      <td>4420</td>\n",
              "      <td>4.936828</td>\n",
              "      <td>62</td>\n",
              "      <td>0</td>\n",
              "      <td>835</td>\n",
              "      <td>0</td>\n",
              "      <td>[]</td>\n",
              "      <td>[]</td>\n",
              "    </tr>\n",
              "    <tr>\n",
              "      <th>3</th>\n",
              "      <td>How often do you ride in a car? Do you drive a...</td>\n",
              "      <td>0.0</td>\n",
              "      <td>112</td>\n",
              "      <td>310</td>\n",
              "      <td>686</td>\n",
              "      <td>4001</td>\n",
              "      <td>4.830904</td>\n",
              "      <td>77</td>\n",
              "      <td>1</td>\n",
              "      <td>793</td>\n",
              "      <td>0</td>\n",
              "      <td>[]</td>\n",
              "      <td>[]</td>\n",
              "    </tr>\n",
              "    <tr>\n",
              "      <th>4</th>\n",
              "      <td>Cars are a wonderful thing. They are perhaps o...</td>\n",
              "      <td>0.0</td>\n",
              "      <td>106</td>\n",
              "      <td>389</td>\n",
              "      <td>871</td>\n",
              "      <td>4694</td>\n",
              "      <td>4.386912</td>\n",
              "      <td>74</td>\n",
              "      <td>11</td>\n",
              "      <td>963</td>\n",
              "      <td>0</td>\n",
              "      <td>[]</td>\n",
              "      <td>[]</td>\n",
              "    </tr>\n",
              "  </tbody>\n",
              "</table>\n",
              "</div>\n",
              "    <div class=\"colab-df-buttons\">\n",
              "\n",
              "  <div class=\"colab-df-container\">\n",
              "    <button class=\"colab-df-convert\" onclick=\"convertToInteractive('df-dd5db090-7df3-422d-860f-64dd2e1e2af5')\"\n",
              "            title=\"Convert this dataframe to an interactive table.\"\n",
              "            style=\"display:none;\">\n",
              "\n",
              "  <svg xmlns=\"http://www.w3.org/2000/svg\" height=\"24px\" viewBox=\"0 -960 960 960\">\n",
              "    <path d=\"M120-120v-720h720v720H120Zm60-500h600v-160H180v160Zm220 220h160v-160H400v160Zm0 220h160v-160H400v160ZM180-400h160v-160H180v160Zm440 0h160v-160H620v160ZM180-180h160v-160H180v160Zm440 0h160v-160H620v160Z\"/>\n",
              "  </svg>\n",
              "    </button>\n",
              "\n",
              "  <style>\n",
              "    .colab-df-container {\n",
              "      display:flex;\n",
              "      gap: 12px;\n",
              "    }\n",
              "\n",
              "    .colab-df-convert {\n",
              "      background-color: #E8F0FE;\n",
              "      border: none;\n",
              "      border-radius: 50%;\n",
              "      cursor: pointer;\n",
              "      display: none;\n",
              "      fill: #1967D2;\n",
              "      height: 32px;\n",
              "      padding: 0 0 0 0;\n",
              "      width: 32px;\n",
              "    }\n",
              "\n",
              "    .colab-df-convert:hover {\n",
              "      background-color: #E2EBFA;\n",
              "      box-shadow: 0px 1px 2px rgba(60, 64, 67, 0.3), 0px 1px 3px 1px rgba(60, 64, 67, 0.15);\n",
              "      fill: #174EA6;\n",
              "    }\n",
              "\n",
              "    .colab-df-buttons div {\n",
              "      margin-bottom: 4px;\n",
              "    }\n",
              "\n",
              "    [theme=dark] .colab-df-convert {\n",
              "      background-color: #3B4455;\n",
              "      fill: #D2E3FC;\n",
              "    }\n",
              "\n",
              "    [theme=dark] .colab-df-convert:hover {\n",
              "      background-color: #434B5C;\n",
              "      box-shadow: 0px 1px 3px 1px rgba(0, 0, 0, 0.15);\n",
              "      filter: drop-shadow(0px 1px 2px rgba(0, 0, 0, 0.3));\n",
              "      fill: #FFFFFF;\n",
              "    }\n",
              "  </style>\n",
              "\n",
              "    <script>\n",
              "      const buttonEl =\n",
              "        document.querySelector('#df-dd5db090-7df3-422d-860f-64dd2e1e2af5 button.colab-df-convert');\n",
              "      buttonEl.style.display =\n",
              "        google.colab.kernel.accessAllowed ? 'block' : 'none';\n",
              "\n",
              "      async function convertToInteractive(key) {\n",
              "        const element = document.querySelector('#df-dd5db090-7df3-422d-860f-64dd2e1e2af5');\n",
              "        const dataTable =\n",
              "          await google.colab.kernel.invokeFunction('convertToInteractive',\n",
              "                                                    [key], {});\n",
              "        if (!dataTable) return;\n",
              "\n",
              "        const docLinkHtml = 'Like what you see? Visit the ' +\n",
              "          '<a target=\"_blank\" href=https://colab.research.google.com/notebooks/data_table.ipynb>data table notebook</a>'\n",
              "          + ' to learn more about interactive tables.';\n",
              "        element.innerHTML = '';\n",
              "        dataTable['output_type'] = 'display_data';\n",
              "        await google.colab.output.renderOutput(dataTable, element);\n",
              "        const docLink = document.createElement('div');\n",
              "        docLink.innerHTML = docLinkHtml;\n",
              "        element.appendChild(docLink);\n",
              "      }\n",
              "    </script>\n",
              "  </div>\n",
              "\n",
              "\n",
              "<div id=\"df-18fd1117-79aa-4067-94c5-a5cabae3d3ff\">\n",
              "  <button class=\"colab-df-quickchart\" onclick=\"quickchart('df-18fd1117-79aa-4067-94c5-a5cabae3d3ff')\"\n",
              "            title=\"Suggest charts\"\n",
              "            style=\"display:none;\">\n",
              "\n",
              "<svg xmlns=\"http://www.w3.org/2000/svg\" height=\"24px\"viewBox=\"0 0 24 24\"\n",
              "     width=\"24px\">\n",
              "    <g>\n",
              "        <path d=\"M19 3H5c-1.1 0-2 .9-2 2v14c0 1.1.9 2 2 2h14c1.1 0 2-.9 2-2V5c0-1.1-.9-2-2-2zM9 17H7v-7h2v7zm4 0h-2V7h2v10zm4 0h-2v-4h2v4z\"/>\n",
              "    </g>\n",
              "</svg>\n",
              "  </button>\n",
              "\n",
              "<style>\n",
              "  .colab-df-quickchart {\n",
              "      --bg-color: #E8F0FE;\n",
              "      --fill-color: #1967D2;\n",
              "      --hover-bg-color: #E2EBFA;\n",
              "      --hover-fill-color: #174EA6;\n",
              "      --disabled-fill-color: #AAA;\n",
              "      --disabled-bg-color: #DDD;\n",
              "  }\n",
              "\n",
              "  [theme=dark] .colab-df-quickchart {\n",
              "      --bg-color: #3B4455;\n",
              "      --fill-color: #D2E3FC;\n",
              "      --hover-bg-color: #434B5C;\n",
              "      --hover-fill-color: #FFFFFF;\n",
              "      --disabled-bg-color: #3B4455;\n",
              "      --disabled-fill-color: #666;\n",
              "  }\n",
              "\n",
              "  .colab-df-quickchart {\n",
              "    background-color: var(--bg-color);\n",
              "    border: none;\n",
              "    border-radius: 50%;\n",
              "    cursor: pointer;\n",
              "    display: none;\n",
              "    fill: var(--fill-color);\n",
              "    height: 32px;\n",
              "    padding: 0;\n",
              "    width: 32px;\n",
              "  }\n",
              "\n",
              "  .colab-df-quickchart:hover {\n",
              "    background-color: var(--hover-bg-color);\n",
              "    box-shadow: 0 1px 2px rgba(60, 64, 67, 0.3), 0 1px 3px 1px rgba(60, 64, 67, 0.15);\n",
              "    fill: var(--button-hover-fill-color);\n",
              "  }\n",
              "\n",
              "  .colab-df-quickchart-complete:disabled,\n",
              "  .colab-df-quickchart-complete:disabled:hover {\n",
              "    background-color: var(--disabled-bg-color);\n",
              "    fill: var(--disabled-fill-color);\n",
              "    box-shadow: none;\n",
              "  }\n",
              "\n",
              "  .colab-df-spinner {\n",
              "    border: 2px solid var(--fill-color);\n",
              "    border-color: transparent;\n",
              "    border-bottom-color: var(--fill-color);\n",
              "    animation:\n",
              "      spin 1s steps(1) infinite;\n",
              "  }\n",
              "\n",
              "  @keyframes spin {\n",
              "    0% {\n",
              "      border-color: transparent;\n",
              "      border-bottom-color: var(--fill-color);\n",
              "      border-left-color: var(--fill-color);\n",
              "    }\n",
              "    20% {\n",
              "      border-color: transparent;\n",
              "      border-left-color: var(--fill-color);\n",
              "      border-top-color: var(--fill-color);\n",
              "    }\n",
              "    30% {\n",
              "      border-color: transparent;\n",
              "      border-left-color: var(--fill-color);\n",
              "      border-top-color: var(--fill-color);\n",
              "      border-right-color: var(--fill-color);\n",
              "    }\n",
              "    40% {\n",
              "      border-color: transparent;\n",
              "      border-right-color: var(--fill-color);\n",
              "      border-top-color: var(--fill-color);\n",
              "    }\n",
              "    60% {\n",
              "      border-color: transparent;\n",
              "      border-right-color: var(--fill-color);\n",
              "    }\n",
              "    80% {\n",
              "      border-color: transparent;\n",
              "      border-right-color: var(--fill-color);\n",
              "      border-bottom-color: var(--fill-color);\n",
              "    }\n",
              "    90% {\n",
              "      border-color: transparent;\n",
              "      border-bottom-color: var(--fill-color);\n",
              "    }\n",
              "  }\n",
              "</style>\n",
              "\n",
              "  <script>\n",
              "    async function quickchart(key) {\n",
              "      const quickchartButtonEl =\n",
              "        document.querySelector('#' + key + ' button');\n",
              "      quickchartButtonEl.disabled = true;  // To prevent multiple clicks.\n",
              "      quickchartButtonEl.classList.add('colab-df-spinner');\n",
              "      try {\n",
              "        const charts = await google.colab.kernel.invokeFunction(\n",
              "            'suggestCharts', [key], {});\n",
              "      } catch (error) {\n",
              "        console.error('Error during call to suggestCharts:', error);\n",
              "      }\n",
              "      quickchartButtonEl.classList.remove('colab-df-spinner');\n",
              "      quickchartButtonEl.classList.add('colab-df-quickchart-complete');\n",
              "    }\n",
              "    (() => {\n",
              "      let quickchartButtonEl =\n",
              "        document.querySelector('#df-18fd1117-79aa-4067-94c5-a5cabae3d3ff button');\n",
              "      quickchartButtonEl.style.display =\n",
              "        google.colab.kernel.accessAllowed ? 'block' : 'none';\n",
              "    })();\n",
              "  </script>\n",
              "</div>\n",
              "\n",
              "    </div>\n",
              "  </div>\n"
            ],
            "application/vnd.google.colaboratory.intrinsic+json": {
              "type": "dataframe",
              "variable_name": "df_with_features",
              "summary": "{\n  \"name\": \"df_with_features\",\n  \"rows\": 16000,\n  \"fields\": [\n    {\n      \"column\": \"text\",\n      \"properties\": {\n        \"dtype\": \"string\",\n        \"num_unique_values\": 16000,\n        \"samples\": [\n          \"Maintaining the Electoral College or Transitioning to Popular Vote for Presidential Elections  Dear [Senators Last Name],  I am writing to express my opinion on the topic of the Electoral College and its role in determining the President of the United States. After carefully considering the information provided in various texts, including the summaries you provided, I believe that maintaining the Electoral College is in the best interest of our democratic system.  First and foremost, the Electoral College is a process that was established by our founding fathers as a compromise between election by Congress and direct popular vote. As outlined by the Office of the Federal Register, the Electoral College consists of 538 electors, and a candidate needs at least 270 electoral votes to be elected as President. This ensures that candidates have to gain support from a diverse range of states rather than relying solely on the popular vote, thus ensuring that the President represents the interests of a broader spectrum of citizens.  A major advantage of the Electoral College, as highlighted by Judge Richard A. Posner, is the certainty it provides in determining the outcome of an election. By awarding electoral votes on a winner-take-all basis, we avoid disputes over the popular vote. Even if a candidate has a slight advantage in a state, they receive all the electoral votes from that state. This helps prevent the need for tedious recounts and minimizes the potential for controversy surrounding the election results.  Additionally, the Electoral College encourages candidates to campaign more widely across multiple states. Posner emphasizes that candidates must have trans-regional appeal to win the necessary electoral votes. This system prevents candidates from solely focusing on densely populated or swing states, as they need support from a variety of regions. Therefore, it ensures that the President does not overlook the interests of citizens from different parts of the country. Furthermore, it encourages candidates to address the concerns and needs of residents in smaller or less populated states, ensuring their voices are heard in the election process.  Moreover, the Electoral College provides a balance to the political influence of large states compared to smaller ones. As Posner explains, the mal-apportionment of the Senate in the Constitution gives smaller states less political weight. By assigning electoral votes based on congressional representation, the Electoral College restores some of the weight to large states, enabling more attention from presidential candidates. This system prevents the disenfranchisement of citizens in large states and maintains the relevance of their voices in the election process.  Lastly, the Electoral College eliminates the need for run-off elections, which can complicate the election process. Instead, it consistently produces a clear winner. This is crucial in ensuring a stable and efficient transfer of power, preventing prolonged periods of uncertainty and potential political turmoil.  While there are valid arguments against the Electoral College, such as the issue of regional favoritism, I believe that the benefits it offers outweigh the drawbacks. It helps maintain a balance between large and small states, encourages candidates to campaign widely, and ensures a clear outcome in the election process.  In conclusion, I urge you to consider the importance of maintaining the Electoral College or potentially exploring alternative solutions that keep its key principles intact. It is essential to protect the fairness, stability, and representativeness of our democratic system. Thank you for your time and consideration.  Sincerely,  [Your Name]\",\n          \"\\\"Therefore scientist seeking to conduct a thorough mission to understand Venus would need to get up close and personal despite the risks. Or maybe we should think of them as challenges\\\"(paragraph 6) . This supports the authors claim that studying Venus is a worthy pursuit despite the dangers because in this quote it supports the idea that instead of thinking of this mission as a risk, think of it as a challenge. A risk is when something bad can happen as a result of failing where as a challenge is a reward you will get if the operation is a success.  Why would some people consider getting a closer look at Venus a challenge and not a risk? \\\"A thick atmosphere of almost 97 percent carbon dioxide blankets Venus. On the planets surface, temperatures average over 800 degrees Fahrenheit, and the atmospheric pressure is 90 times greater than what we experience on our own planet. These conditions are far more extreme than anything huimans encounter on Earth\\\" (paragraph 3). This supports the idea that going to Venus does have some dangers. On Earth we have never expierienced 800 degree weather. To top it off, the atomosphere is 97 percent carbon dioxide. This would make it extremly difficult for us to even breath on Venus. \\\"Modern computers are enormous;y powerful, flexible, and quick, but tend to be more delicate when it comes to extreme nphysical conditions. Just imagine exposing a cell phone or tablet to acid or heat capable of melting tin. By comparison, systems that use mechanical parts can be made more resistant to pressure, heat, and other forces.\\\" This supports the idea that in order for them to get to Venus they must produce a device that will be able to make it through the mission withought burning up. They also have to think about how the human who on the mission are going to stay cool in the scorching conditions of Venus. This supports the idea that going to Venus for a closer look may perhaps be a risk.  Why may some people see going to Venus as a challenge? \\\"Striving to meet the challenge presented by Venus has value, not only because of the insight to be gained on the planet itself, but also because human curiosity will likely lead us into many equally intimidating endeavors\\\" (paragraph 8). This supports the idea that going to Venus is a challenge because not only will they gain insight of the planet, but it will lead them into even more intimidating endeavors do to our curiosity as humans. \\\"Our travels on Earth and beyond should not be limited by the dangers and doubts but should be expanded to meet the very edges of imagination and innovation\\\"(paragraph 8). This quote supports the idea that our travels should not be limited because of dangers and doubts but they should actually expand so that we can live up to our innovation and imagination.  How could this challenge and/or risk be a worthy pursuit despite the dangers? \\\"Often reffered to as Earths \\\"twin\\\", Venus is the closest planet to Erath in terms of density and size, and occasionally the closest in distance too.\\\" This supports the idea that not only is Venus a close planet to us in density and size, but is is close to us in distance too. Therefore, If we cant make it to Venus and its one of the closest planets to us, how are we supposed to explore other places in the solar system in the near future? It is also important so that we could gain insight of the planet and see what Earth and Venus really have in common.  In conclusion, a risk is when something bad can happen as a result of failing. A challenge is when you will recieve a reward if the operation is a success. Either way the author claims that it is a worthy pursuit to closley examine Mars. Not only will it give us gainful insight of the planet, but as humans, all of us are very curious.\",\n          \"Everyone remembers mars the planet that Nasa was trying to get on to see if its possible to live on? Well now they changed into a diffrent planet called Venus.  The author of the article \\\"The challenge of exploring Venus\\\" is stating his choice on what Nasa is doing. He is making it very clear that he wants people to explore Venus. He gave a hint in one part of his story. For example he says \\\"Striving to meet the challenge presented by Venus has valuse, not only becuase og insite to be gained on the planet its self.\\\" Hes is giving his full suport on Nasas choice to go and study Venus. He also is saying to keep trying even though it is dangerous. In the text it says that \\\"A thick atmoshpere of almost 97% carbon dioxide blankets Venus.\\\" This Is saying that its very dangerousover there on Venus and the pressure could destroy everything there.  In Conclusion he gives his full support no matter what. He is hoping that they keep striving to find a way to successsfuly accomplish whatever they need to do.\"\n        ],\n        \"semantic_type\": \"\",\n        \"description\": \"\"\n      }\n    },\n    {\n      \"column\": \"generated\",\n      \"properties\": {\n        \"dtype\": \"number\",\n        \"std\": 0.5000156257324601,\n        \"min\": 0.0,\n        \"max\": 1.0,\n        \"num_unique_values\": 2,\n        \"samples\": [\n          1.0,\n          0.0\n        ],\n        \"semantic_type\": \"\",\n        \"description\": \"\"\n      }\n    },\n    {\n      \"column\": \"punctuation_count\",\n      \"properties\": {\n        \"dtype\": \"number\",\n        \"std\": 26,\n        \"min\": 1,\n        \"max\": 369,\n        \"num_unique_values\": 199,\n        \"samples\": [\n          28,\n          60\n        ],\n        \"semantic_type\": \"\",\n        \"description\": \"\"\n      }\n    },\n    {\n      \"column\": \"linking_words_count\",\n      \"properties\": {\n        \"dtype\": \"number\",\n        \"std\": 80,\n        \"min\": 0,\n        \"max\": 846,\n        \"num_unique_values\": 478,\n        \"samples\": [\n          33,\n          171\n        ],\n        \"semantic_type\": \"\",\n        \"description\": \"\"\n      }\n    },\n    {\n      \"column\": \"word_count\",\n      \"properties\": {\n        \"dtype\": \"number\",\n        \"std\": 170,\n        \"min\": 1,\n        \"max\": 1650,\n        \"num_unique_values\": 895,\n        \"samples\": [\n          253,\n          695\n        ],\n        \"semantic_type\": \"\",\n        \"description\": \"\"\n      }\n    },\n    {\n      \"column\": \"char_count\",\n      \"properties\": {\n        \"dtype\": \"number\",\n        \"std\": 1013,\n        \"min\": 1,\n        \"max\": 9134,\n        \"num_unique_values\": 3977,\n        \"samples\": [\n          2879,\n          1865\n        ],\n        \"semantic_type\": \"\",\n        \"description\": \"\"\n      }\n    },\n    {\n      \"column\": \"avg_word_length\",\n      \"properties\": {\n        \"dtype\": \"number\",\n        \"std\": 0.46850383665311784,\n        \"min\": 1.0,\n        \"max\": 6.667386609071274,\n        \"num_unique_values\": 14048,\n        \"samples\": [\n          4.143426294820717,\n          5.43730407523511\n        ],\n        \"semantic_type\": \"\",\n        \"description\": \"\"\n      }\n    },\n    {\n      \"column\": \"uppercase_count\",\n      \"properties\": {\n        \"dtype\": \"number\",\n        \"std\": 38,\n        \"min\": 0,\n        \"max\": 1830,\n        \"num_unique_values\": 177,\n        \"samples\": [\n          44,\n          110\n        ],\n        \"semantic_type\": \"\",\n        \"description\": \"\"\n      }\n    },\n    {\n      \"column\": \"digit_count\",\n      \"properties\": {\n        \"dtype\": \"number\",\n        \"std\": 9,\n        \"min\": 0,\n        \"max\": 192,\n        \"num_unique_values\": 83,\n        \"samples\": [\n          37,\n          13\n        ],\n        \"semantic_type\": \"\",\n        \"description\": \"\"\n      }\n    },\n    {\n      \"column\": \"length_text\",\n      \"properties\": {\n        \"dtype\": \"number\",\n        \"std\": 191,\n        \"min\": 1,\n        \"max\": 1741,\n        \"num_unique_values\": 1005,\n        \"samples\": [\n          83,\n          331\n        ],\n        \"semantic_type\": \"\",\n        \"description\": \"\"\n      }\n    },\n    {\n      \"column\": \"spelling_status\",\n      \"properties\": {\n        \"dtype\": \"number\",\n        \"std\": 0,\n        \"min\": 0,\n        \"max\": 0,\n        \"num_unique_values\": 1,\n        \"samples\": [\n          0\n        ],\n        \"semantic_type\": \"\",\n        \"description\": \"\"\n      }\n    },\n    {\n      \"column\": \"emails\",\n      \"properties\": {\n        \"dtype\": \"object\",\n        \"semantic_type\": \"\",\n        \"description\": \"\"\n      }\n    },\n    {\n      \"column\": \"slangs\",\n      \"properties\": {\n        \"dtype\": \"object\",\n        \"semantic_type\": \"\",\n        \"description\": \"\"\n      }\n    }\n  ]\n}"
            }
          },
          "metadata": {},
          "execution_count": 41
        }
      ]
    },
    {
      "cell_type": "code",
      "source": [
        "df_preprocessed.dtypes"
      ],
      "metadata": {
        "colab": {
          "base_uri": "https://localhost:8080/"
        },
        "id": "0r0MFur00X_z",
        "outputId": "8ebd481d-5ed1-4671-dafb-ddd6b80efca2"
      },
      "execution_count": 42,
      "outputs": [
        {
          "output_type": "execute_result",
          "data": {
            "text/plain": [
              "text                    object\n",
              "generated              float64\n",
              "punctuation_count        int64\n",
              "linking_words_count      int64\n",
              "word_count               int64\n",
              "length_text              int64\n",
              "spelling_status          int64\n",
              "emails                  object\n",
              "slangs                  object\n",
              "char_count               int64\n",
              "avg_word_length        float64\n",
              "uppercase_count          int64\n",
              "digit_count              int64\n",
              "dtype: object"
            ]
          },
          "metadata": {},
          "execution_count": 42
        }
      ]
    },
    {
      "cell_type": "code",
      "source": [
        "# Check if all entries in the 'emails' column are empty lists\n",
        "all_empty_emails = all(len(x) == 0 for x in df_with_features['emails'])\n",
        "\n",
        "print(\"All entries in 'emails' column are empty lists:\", all_empty_emails)"
      ],
      "metadata": {
        "colab": {
          "base_uri": "https://localhost:8080/"
        },
        "id": "AAVNGiiu2H9b",
        "outputId": "7fd61e79-43ce-45d3-c9b9-bbb35c9df42b"
      },
      "execution_count": 43,
      "outputs": [
        {
          "output_type": "stream",
          "name": "stdout",
          "text": [
            "All entries in 'emails' column are empty lists: True\n"
          ]
        }
      ]
    },
    {
      "cell_type": "code",
      "source": [
        "# Printing unique values in the 'emails' and 'slangs' columns\n",
        "unique_emails = df_with_features['emails'].apply(lambda x: tuple(x) if isinstance(x, list) else x).unique()\n",
        "unique_slangs = df_with_features['slangs'].apply(lambda x: tuple(x) if isinstance(x, list) else x).unique()\n",
        "\n",
        "print(\"Unique values (as tuples) in 'emails' column:\", unique_emails)\n",
        "print(\"Unique values (as tuples) in 'slangs' column:\", unique_slangs)"
      ],
      "metadata": {
        "colab": {
          "base_uri": "https://localhost:8080/"
        },
        "id": "_jvsOvX_1WEC",
        "outputId": "8a236f59-d519-408d-aa73-5c45ace2efc7"
      },
      "execution_count": 44,
      "outputs": [
        {
          "output_type": "stream",
          "name": "stdout",
          "text": [
            "Unique values (as tuples) in 'emails' column: [()]\n",
            "Unique values (as tuples) in 'slangs' column: [() ('OMG',) ('Lol',) ('omg',) ('LOL',) ('lol',)]\n"
          ]
        }
      ]
    },
    {
      "cell_type": "code",
      "source": [
        "# Correctly transform the 'slangs' column: replace non-empty lists with 1, and empty lists or non-list values with 0\n",
        "df_with_features['slangs'] = df_with_features['slangs'].apply(lambda x: 1 if isinstance(x, list) and len(x) > 0 else 0)"
      ],
      "metadata": {
        "id": "Kzh3kv8b2gDV"
      },
      "execution_count": 45,
      "outputs": []
    },
    {
      "cell_type": "code",
      "source": [
        "from sklearn.feature_extraction.text import TfidfVectorizer\n",
        "\n",
        "# Initialize the TF-IDF vectorizer\n",
        "tfidf_vectorizer = TfidfVectorizer(max_features=1000)  # You can adjust max_features as needed\n",
        "\n",
        "# Fit and transform the text data to obtain the TF-IDF features\n",
        "tfidf_features = tfidf_vectorizer.fit_transform(df_with_features['text'])\n",
        "\n",
        "# Convert the TF-IDF features to a DataFrame\n",
        "tfidf_df = pd.DataFrame(tfidf_features.toarray(), columns=tfidf_vectorizer.get_feature_names_out())\n",
        "\n",
        "# Concatenate the TF-IDF features with the existing features DataFrame\n",
        "df_with_features = pd.concat([df_with_features, tfidf_df], axis=1)\n",
        "\n",
        "# Now df_with_features contains both the original features and the TF-IDF features"
      ],
      "metadata": {
        "id": "O4pusMtQoVVR"
      },
      "execution_count": 46,
      "outputs": []
    },
    {
      "cell_type": "code",
      "source": [
        "df_with_features.info()"
      ],
      "metadata": {
        "colab": {
          "base_uri": "https://localhost:8080/"
        },
        "id": "GNT_PxaxoXgf",
        "outputId": "7afdba99-c847-416a-de19-6f2888898479"
      },
      "execution_count": 47,
      "outputs": [
        {
          "output_type": "stream",
          "name": "stdout",
          "text": [
            "<class 'pandas.core.frame.DataFrame'>\n",
            "RangeIndex: 16000 entries, 0 to 15999\n",
            "Columns: 1013 entries, text to yourself\n",
            "dtypes: float64(1002), int64(9), object(2)\n",
            "memory usage: 123.7+ MB\n"
          ]
        }
      ]
    },
    {
      "cell_type": "code",
      "source": [
        "from sklearn.model_selection import train_test_split\n",
        "\n",
        "# Shuffle DataFrame to ensure random selection of records\n",
        "df_shuffled = df_with_features.sample(frac=1, random_state=42).reset_index(drop=True)\n",
        "\n",
        "# Separate 100 records for unseen testing\n",
        "df_unseen = df_shuffled[:100]\n",
        "df_rest = df_shuffled[100:]\n",
        "\n",
        "# Train-test split on df_rest\n",
        "X = df_rest.drop(['generated', 'text', 'emails'], axis=1)\n",
        "y = df_rest['generated']"
      ],
      "metadata": {
        "id": "2w0uEwwmzCGw"
      },
      "execution_count": 106,
      "outputs": []
    },
    {
      "cell_type": "code",
      "source": [
        "df_unseen_target = df_unseen['generated'] # selecting target variable\n",
        "df_unseen_test = df_unseen.drop(['generated', 'text', 'emails'], axis=1) # dropping email column since it is empty, and dropping text after obtaining tf-idf matrix\n",
        "df_unseen_test"
      ],
      "metadata": {
        "colab": {
          "base_uri": "https://localhost:8080/",
          "height": 443
        },
        "id": "kc-YOvDMAXRv",
        "outputId": "d2b2d8d7-3b80-4136-8973-6df21e4ca1bb"
      },
      "execution_count": 107,
      "outputs": [
        {
          "output_type": "execute_result",
          "data": {
            "text/plain": [
              "    punctuation_count  linking_words_count  word_count  char_count  \\\n",
              "0                  68                  238         562        3734   \n",
              "1                  77                  346         677        3776   \n",
              "2                  20                   91         187        1011   \n",
              "3                  48                  203         405        2161   \n",
              "4                  75                  205         529        3513   \n",
              "..                ...                  ...         ...         ...   \n",
              "95                 30                  139         283        1585   \n",
              "96                 30                  146         308        1790   \n",
              "97                 35                  137         299        1859   \n",
              "98                 49                  271         523        3066   \n",
              "99                 26                  119         197        1054   \n",
              "\n",
              "    avg_word_length  uppercase_count  digit_count  length_text  \\\n",
              "0          5.626335               83            6          624   \n",
              "1          4.573117               57           16          755   \n",
              "2          4.401070               27            2          207   \n",
              "3          4.328395               44            0          453   \n",
              "4          5.629490               47           10          594   \n",
              "..              ...              ...          ...          ...   \n",
              "95         4.590106               29            5          313   \n",
              "96         4.801948               43           10          338   \n",
              "97         5.200669               16            0          334   \n",
              "98         4.850860               30            0          572   \n",
              "99         4.335025               23            0          226   \n",
              "\n",
              "    spelling_status  slangs  ...   writing  wrong  year     years       yet  \\\n",
              "0                 0       0  ...  0.030277    0.0   0.0  0.000000  0.000000   \n",
              "1                 0       0  ...  0.000000    0.0   0.0  0.000000  0.000000   \n",
              "2                 0       0  ...  0.000000    0.0   0.0  0.000000  0.000000   \n",
              "3                 0       0  ...  0.000000    0.0   0.0  0.000000  0.000000   \n",
              "4                 0       0  ...  0.000000    0.0   0.0  0.000000  0.000000   \n",
              "..              ...     ...  ...       ...    ...   ...       ...       ...   \n",
              "95                0       0  ...  0.000000    0.0   0.0  0.000000  0.000000   \n",
              "96                0       0  ...  0.000000    0.0   0.0  0.000000  0.063107   \n",
              "97                0       0  ...  0.000000    0.0   0.0  0.000000  0.000000   \n",
              "98                0       0  ...  0.000000    0.0   0.0  0.026996  0.000000   \n",
              "99                0       0  ...  0.000000    0.0   0.0  0.000000  0.000000   \n",
              "\n",
              "         you  young      your  youre  yourself  \n",
              "0   0.043895    0.0  0.034172    0.0       0.0  \n",
              "1   0.029619    0.0  0.000000    0.0       0.0  \n",
              "2   0.000000    0.0  0.000000    0.0       0.0  \n",
              "3   0.000000    0.0  0.032317    0.0       0.0  \n",
              "4   0.000000    0.0  0.000000    0.0       0.0  \n",
              "..       ...    ...       ...    ...       ...  \n",
              "95  0.063539    0.0  0.000000    0.0       0.0  \n",
              "96  0.000000    0.0  0.000000    0.0       0.0  \n",
              "97  0.000000    0.0  0.000000    0.0       0.0  \n",
              "98  0.000000    0.0  0.000000    0.0       0.0  \n",
              "99  0.000000    0.0  0.000000    0.0       0.0  \n",
              "\n",
              "[100 rows x 1009 columns]"
            ],
            "text/html": [
              "\n",
              "  <div id=\"df-f0cb1cbd-5c9e-4a03-a2fd-86deb8731ab2\" class=\"colab-df-container\">\n",
              "    <div>\n",
              "<style scoped>\n",
              "    .dataframe tbody tr th:only-of-type {\n",
              "        vertical-align: middle;\n",
              "    }\n",
              "\n",
              "    .dataframe tbody tr th {\n",
              "        vertical-align: top;\n",
              "    }\n",
              "\n",
              "    .dataframe thead th {\n",
              "        text-align: right;\n",
              "    }\n",
              "</style>\n",
              "<table border=\"1\" class=\"dataframe\">\n",
              "  <thead>\n",
              "    <tr style=\"text-align: right;\">\n",
              "      <th></th>\n",
              "      <th>punctuation_count</th>\n",
              "      <th>linking_words_count</th>\n",
              "      <th>word_count</th>\n",
              "      <th>char_count</th>\n",
              "      <th>avg_word_length</th>\n",
              "      <th>uppercase_count</th>\n",
              "      <th>digit_count</th>\n",
              "      <th>length_text</th>\n",
              "      <th>spelling_status</th>\n",
              "      <th>slangs</th>\n",
              "      <th>...</th>\n",
              "      <th>writing</th>\n",
              "      <th>wrong</th>\n",
              "      <th>year</th>\n",
              "      <th>years</th>\n",
              "      <th>yet</th>\n",
              "      <th>you</th>\n",
              "      <th>young</th>\n",
              "      <th>your</th>\n",
              "      <th>youre</th>\n",
              "      <th>yourself</th>\n",
              "    </tr>\n",
              "  </thead>\n",
              "  <tbody>\n",
              "    <tr>\n",
              "      <th>0</th>\n",
              "      <td>68</td>\n",
              "      <td>238</td>\n",
              "      <td>562</td>\n",
              "      <td>3734</td>\n",
              "      <td>5.626335</td>\n",
              "      <td>83</td>\n",
              "      <td>6</td>\n",
              "      <td>624</td>\n",
              "      <td>0</td>\n",
              "      <td>0</td>\n",
              "      <td>...</td>\n",
              "      <td>0.030277</td>\n",
              "      <td>0.0</td>\n",
              "      <td>0.0</td>\n",
              "      <td>0.000000</td>\n",
              "      <td>0.000000</td>\n",
              "      <td>0.043895</td>\n",
              "      <td>0.0</td>\n",
              "      <td>0.034172</td>\n",
              "      <td>0.0</td>\n",
              "      <td>0.0</td>\n",
              "    </tr>\n",
              "    <tr>\n",
              "      <th>1</th>\n",
              "      <td>77</td>\n",
              "      <td>346</td>\n",
              "      <td>677</td>\n",
              "      <td>3776</td>\n",
              "      <td>4.573117</td>\n",
              "      <td>57</td>\n",
              "      <td>16</td>\n",
              "      <td>755</td>\n",
              "      <td>0</td>\n",
              "      <td>0</td>\n",
              "      <td>...</td>\n",
              "      <td>0.000000</td>\n",
              "      <td>0.0</td>\n",
              "      <td>0.0</td>\n",
              "      <td>0.000000</td>\n",
              "      <td>0.000000</td>\n",
              "      <td>0.029619</td>\n",
              "      <td>0.0</td>\n",
              "      <td>0.000000</td>\n",
              "      <td>0.0</td>\n",
              "      <td>0.0</td>\n",
              "    </tr>\n",
              "    <tr>\n",
              "      <th>2</th>\n",
              "      <td>20</td>\n",
              "      <td>91</td>\n",
              "      <td>187</td>\n",
              "      <td>1011</td>\n",
              "      <td>4.401070</td>\n",
              "      <td>27</td>\n",
              "      <td>2</td>\n",
              "      <td>207</td>\n",
              "      <td>0</td>\n",
              "      <td>0</td>\n",
              "      <td>...</td>\n",
              "      <td>0.000000</td>\n",
              "      <td>0.0</td>\n",
              "      <td>0.0</td>\n",
              "      <td>0.000000</td>\n",
              "      <td>0.000000</td>\n",
              "      <td>0.000000</td>\n",
              "      <td>0.0</td>\n",
              "      <td>0.000000</td>\n",
              "      <td>0.0</td>\n",
              "      <td>0.0</td>\n",
              "    </tr>\n",
              "    <tr>\n",
              "      <th>3</th>\n",
              "      <td>48</td>\n",
              "      <td>203</td>\n",
              "      <td>405</td>\n",
              "      <td>2161</td>\n",
              "      <td>4.328395</td>\n",
              "      <td>44</td>\n",
              "      <td>0</td>\n",
              "      <td>453</td>\n",
              "      <td>0</td>\n",
              "      <td>0</td>\n",
              "      <td>...</td>\n",
              "      <td>0.000000</td>\n",
              "      <td>0.0</td>\n",
              "      <td>0.0</td>\n",
              "      <td>0.000000</td>\n",
              "      <td>0.000000</td>\n",
              "      <td>0.000000</td>\n",
              "      <td>0.0</td>\n",
              "      <td>0.032317</td>\n",
              "      <td>0.0</td>\n",
              "      <td>0.0</td>\n",
              "    </tr>\n",
              "    <tr>\n",
              "      <th>4</th>\n",
              "      <td>75</td>\n",
              "      <td>205</td>\n",
              "      <td>529</td>\n",
              "      <td>3513</td>\n",
              "      <td>5.629490</td>\n",
              "      <td>47</td>\n",
              "      <td>10</td>\n",
              "      <td>594</td>\n",
              "      <td>0</td>\n",
              "      <td>0</td>\n",
              "      <td>...</td>\n",
              "      <td>0.000000</td>\n",
              "      <td>0.0</td>\n",
              "      <td>0.0</td>\n",
              "      <td>0.000000</td>\n",
              "      <td>0.000000</td>\n",
              "      <td>0.000000</td>\n",
              "      <td>0.0</td>\n",
              "      <td>0.000000</td>\n",
              "      <td>0.0</td>\n",
              "      <td>0.0</td>\n",
              "    </tr>\n",
              "    <tr>\n",
              "      <th>...</th>\n",
              "      <td>...</td>\n",
              "      <td>...</td>\n",
              "      <td>...</td>\n",
              "      <td>...</td>\n",
              "      <td>...</td>\n",
              "      <td>...</td>\n",
              "      <td>...</td>\n",
              "      <td>...</td>\n",
              "      <td>...</td>\n",
              "      <td>...</td>\n",
              "      <td>...</td>\n",
              "      <td>...</td>\n",
              "      <td>...</td>\n",
              "      <td>...</td>\n",
              "      <td>...</td>\n",
              "      <td>...</td>\n",
              "      <td>...</td>\n",
              "      <td>...</td>\n",
              "      <td>...</td>\n",
              "      <td>...</td>\n",
              "      <td>...</td>\n",
              "    </tr>\n",
              "    <tr>\n",
              "      <th>95</th>\n",
              "      <td>30</td>\n",
              "      <td>139</td>\n",
              "      <td>283</td>\n",
              "      <td>1585</td>\n",
              "      <td>4.590106</td>\n",
              "      <td>29</td>\n",
              "      <td>5</td>\n",
              "      <td>313</td>\n",
              "      <td>0</td>\n",
              "      <td>0</td>\n",
              "      <td>...</td>\n",
              "      <td>0.000000</td>\n",
              "      <td>0.0</td>\n",
              "      <td>0.0</td>\n",
              "      <td>0.000000</td>\n",
              "      <td>0.000000</td>\n",
              "      <td>0.063539</td>\n",
              "      <td>0.0</td>\n",
              "      <td>0.000000</td>\n",
              "      <td>0.0</td>\n",
              "      <td>0.0</td>\n",
              "    </tr>\n",
              "    <tr>\n",
              "      <th>96</th>\n",
              "      <td>30</td>\n",
              "      <td>146</td>\n",
              "      <td>308</td>\n",
              "      <td>1790</td>\n",
              "      <td>4.801948</td>\n",
              "      <td>43</td>\n",
              "      <td>10</td>\n",
              "      <td>338</td>\n",
              "      <td>0</td>\n",
              "      <td>0</td>\n",
              "      <td>...</td>\n",
              "      <td>0.000000</td>\n",
              "      <td>0.0</td>\n",
              "      <td>0.0</td>\n",
              "      <td>0.000000</td>\n",
              "      <td>0.063107</td>\n",
              "      <td>0.000000</td>\n",
              "      <td>0.0</td>\n",
              "      <td>0.000000</td>\n",
              "      <td>0.0</td>\n",
              "      <td>0.0</td>\n",
              "    </tr>\n",
              "    <tr>\n",
              "      <th>97</th>\n",
              "      <td>35</td>\n",
              "      <td>137</td>\n",
              "      <td>299</td>\n",
              "      <td>1859</td>\n",
              "      <td>5.200669</td>\n",
              "      <td>16</td>\n",
              "      <td>0</td>\n",
              "      <td>334</td>\n",
              "      <td>0</td>\n",
              "      <td>0</td>\n",
              "      <td>...</td>\n",
              "      <td>0.000000</td>\n",
              "      <td>0.0</td>\n",
              "      <td>0.0</td>\n",
              "      <td>0.000000</td>\n",
              "      <td>0.000000</td>\n",
              "      <td>0.000000</td>\n",
              "      <td>0.0</td>\n",
              "      <td>0.000000</td>\n",
              "      <td>0.0</td>\n",
              "      <td>0.0</td>\n",
              "    </tr>\n",
              "    <tr>\n",
              "      <th>98</th>\n",
              "      <td>49</td>\n",
              "      <td>271</td>\n",
              "      <td>523</td>\n",
              "      <td>3066</td>\n",
              "      <td>4.850860</td>\n",
              "      <td>30</td>\n",
              "      <td>0</td>\n",
              "      <td>572</td>\n",
              "      <td>0</td>\n",
              "      <td>0</td>\n",
              "      <td>...</td>\n",
              "      <td>0.000000</td>\n",
              "      <td>0.0</td>\n",
              "      <td>0.0</td>\n",
              "      <td>0.026996</td>\n",
              "      <td>0.000000</td>\n",
              "      <td>0.000000</td>\n",
              "      <td>0.0</td>\n",
              "      <td>0.000000</td>\n",
              "      <td>0.0</td>\n",
              "      <td>0.0</td>\n",
              "    </tr>\n",
              "    <tr>\n",
              "      <th>99</th>\n",
              "      <td>26</td>\n",
              "      <td>119</td>\n",
              "      <td>197</td>\n",
              "      <td>1054</td>\n",
              "      <td>4.335025</td>\n",
              "      <td>23</td>\n",
              "      <td>0</td>\n",
              "      <td>226</td>\n",
              "      <td>0</td>\n",
              "      <td>0</td>\n",
              "      <td>...</td>\n",
              "      <td>0.000000</td>\n",
              "      <td>0.0</td>\n",
              "      <td>0.0</td>\n",
              "      <td>0.000000</td>\n",
              "      <td>0.000000</td>\n",
              "      <td>0.000000</td>\n",
              "      <td>0.0</td>\n",
              "      <td>0.000000</td>\n",
              "      <td>0.0</td>\n",
              "      <td>0.0</td>\n",
              "    </tr>\n",
              "  </tbody>\n",
              "</table>\n",
              "<p>100 rows × 1009 columns</p>\n",
              "</div>\n",
              "    <div class=\"colab-df-buttons\">\n",
              "\n",
              "  <div class=\"colab-df-container\">\n",
              "    <button class=\"colab-df-convert\" onclick=\"convertToInteractive('df-f0cb1cbd-5c9e-4a03-a2fd-86deb8731ab2')\"\n",
              "            title=\"Convert this dataframe to an interactive table.\"\n",
              "            style=\"display:none;\">\n",
              "\n",
              "  <svg xmlns=\"http://www.w3.org/2000/svg\" height=\"24px\" viewBox=\"0 -960 960 960\">\n",
              "    <path d=\"M120-120v-720h720v720H120Zm60-500h600v-160H180v160Zm220 220h160v-160H400v160Zm0 220h160v-160H400v160ZM180-400h160v-160H180v160Zm440 0h160v-160H620v160ZM180-180h160v-160H180v160Zm440 0h160v-160H620v160Z\"/>\n",
              "  </svg>\n",
              "    </button>\n",
              "\n",
              "  <style>\n",
              "    .colab-df-container {\n",
              "      display:flex;\n",
              "      gap: 12px;\n",
              "    }\n",
              "\n",
              "    .colab-df-convert {\n",
              "      background-color: #E8F0FE;\n",
              "      border: none;\n",
              "      border-radius: 50%;\n",
              "      cursor: pointer;\n",
              "      display: none;\n",
              "      fill: #1967D2;\n",
              "      height: 32px;\n",
              "      padding: 0 0 0 0;\n",
              "      width: 32px;\n",
              "    }\n",
              "\n",
              "    .colab-df-convert:hover {\n",
              "      background-color: #E2EBFA;\n",
              "      box-shadow: 0px 1px 2px rgba(60, 64, 67, 0.3), 0px 1px 3px 1px rgba(60, 64, 67, 0.15);\n",
              "      fill: #174EA6;\n",
              "    }\n",
              "\n",
              "    .colab-df-buttons div {\n",
              "      margin-bottom: 4px;\n",
              "    }\n",
              "\n",
              "    [theme=dark] .colab-df-convert {\n",
              "      background-color: #3B4455;\n",
              "      fill: #D2E3FC;\n",
              "    }\n",
              "\n",
              "    [theme=dark] .colab-df-convert:hover {\n",
              "      background-color: #434B5C;\n",
              "      box-shadow: 0px 1px 3px 1px rgba(0, 0, 0, 0.15);\n",
              "      filter: drop-shadow(0px 1px 2px rgba(0, 0, 0, 0.3));\n",
              "      fill: #FFFFFF;\n",
              "    }\n",
              "  </style>\n",
              "\n",
              "    <script>\n",
              "      const buttonEl =\n",
              "        document.querySelector('#df-f0cb1cbd-5c9e-4a03-a2fd-86deb8731ab2 button.colab-df-convert');\n",
              "      buttonEl.style.display =\n",
              "        google.colab.kernel.accessAllowed ? 'block' : 'none';\n",
              "\n",
              "      async function convertToInteractive(key) {\n",
              "        const element = document.querySelector('#df-f0cb1cbd-5c9e-4a03-a2fd-86deb8731ab2');\n",
              "        const dataTable =\n",
              "          await google.colab.kernel.invokeFunction('convertToInteractive',\n",
              "                                                    [key], {});\n",
              "        if (!dataTable) return;\n",
              "\n",
              "        const docLinkHtml = 'Like what you see? Visit the ' +\n",
              "          '<a target=\"_blank\" href=https://colab.research.google.com/notebooks/data_table.ipynb>data table notebook</a>'\n",
              "          + ' to learn more about interactive tables.';\n",
              "        element.innerHTML = '';\n",
              "        dataTable['output_type'] = 'display_data';\n",
              "        await google.colab.output.renderOutput(dataTable, element);\n",
              "        const docLink = document.createElement('div');\n",
              "        docLink.innerHTML = docLinkHtml;\n",
              "        element.appendChild(docLink);\n",
              "      }\n",
              "    </script>\n",
              "  </div>\n",
              "\n",
              "\n",
              "<div id=\"df-a67bd4dc-cc73-49eb-aa4f-d5ae46311875\">\n",
              "  <button class=\"colab-df-quickchart\" onclick=\"quickchart('df-a67bd4dc-cc73-49eb-aa4f-d5ae46311875')\"\n",
              "            title=\"Suggest charts\"\n",
              "            style=\"display:none;\">\n",
              "\n",
              "<svg xmlns=\"http://www.w3.org/2000/svg\" height=\"24px\"viewBox=\"0 0 24 24\"\n",
              "     width=\"24px\">\n",
              "    <g>\n",
              "        <path d=\"M19 3H5c-1.1 0-2 .9-2 2v14c0 1.1.9 2 2 2h14c1.1 0 2-.9 2-2V5c0-1.1-.9-2-2-2zM9 17H7v-7h2v7zm4 0h-2V7h2v10zm4 0h-2v-4h2v4z\"/>\n",
              "    </g>\n",
              "</svg>\n",
              "  </button>\n",
              "\n",
              "<style>\n",
              "  .colab-df-quickchart {\n",
              "      --bg-color: #E8F0FE;\n",
              "      --fill-color: #1967D2;\n",
              "      --hover-bg-color: #E2EBFA;\n",
              "      --hover-fill-color: #174EA6;\n",
              "      --disabled-fill-color: #AAA;\n",
              "      --disabled-bg-color: #DDD;\n",
              "  }\n",
              "\n",
              "  [theme=dark] .colab-df-quickchart {\n",
              "      --bg-color: #3B4455;\n",
              "      --fill-color: #D2E3FC;\n",
              "      --hover-bg-color: #434B5C;\n",
              "      --hover-fill-color: #FFFFFF;\n",
              "      --disabled-bg-color: #3B4455;\n",
              "      --disabled-fill-color: #666;\n",
              "  }\n",
              "\n",
              "  .colab-df-quickchart {\n",
              "    background-color: var(--bg-color);\n",
              "    border: none;\n",
              "    border-radius: 50%;\n",
              "    cursor: pointer;\n",
              "    display: none;\n",
              "    fill: var(--fill-color);\n",
              "    height: 32px;\n",
              "    padding: 0;\n",
              "    width: 32px;\n",
              "  }\n",
              "\n",
              "  .colab-df-quickchart:hover {\n",
              "    background-color: var(--hover-bg-color);\n",
              "    box-shadow: 0 1px 2px rgba(60, 64, 67, 0.3), 0 1px 3px 1px rgba(60, 64, 67, 0.15);\n",
              "    fill: var(--button-hover-fill-color);\n",
              "  }\n",
              "\n",
              "  .colab-df-quickchart-complete:disabled,\n",
              "  .colab-df-quickchart-complete:disabled:hover {\n",
              "    background-color: var(--disabled-bg-color);\n",
              "    fill: var(--disabled-fill-color);\n",
              "    box-shadow: none;\n",
              "  }\n",
              "\n",
              "  .colab-df-spinner {\n",
              "    border: 2px solid var(--fill-color);\n",
              "    border-color: transparent;\n",
              "    border-bottom-color: var(--fill-color);\n",
              "    animation:\n",
              "      spin 1s steps(1) infinite;\n",
              "  }\n",
              "\n",
              "  @keyframes spin {\n",
              "    0% {\n",
              "      border-color: transparent;\n",
              "      border-bottom-color: var(--fill-color);\n",
              "      border-left-color: var(--fill-color);\n",
              "    }\n",
              "    20% {\n",
              "      border-color: transparent;\n",
              "      border-left-color: var(--fill-color);\n",
              "      border-top-color: var(--fill-color);\n",
              "    }\n",
              "    30% {\n",
              "      border-color: transparent;\n",
              "      border-left-color: var(--fill-color);\n",
              "      border-top-color: var(--fill-color);\n",
              "      border-right-color: var(--fill-color);\n",
              "    }\n",
              "    40% {\n",
              "      border-color: transparent;\n",
              "      border-right-color: var(--fill-color);\n",
              "      border-top-color: var(--fill-color);\n",
              "    }\n",
              "    60% {\n",
              "      border-color: transparent;\n",
              "      border-right-color: var(--fill-color);\n",
              "    }\n",
              "    80% {\n",
              "      border-color: transparent;\n",
              "      border-right-color: var(--fill-color);\n",
              "      border-bottom-color: var(--fill-color);\n",
              "    }\n",
              "    90% {\n",
              "      border-color: transparent;\n",
              "      border-bottom-color: var(--fill-color);\n",
              "    }\n",
              "  }\n",
              "</style>\n",
              "\n",
              "  <script>\n",
              "    async function quickchart(key) {\n",
              "      const quickchartButtonEl =\n",
              "        document.querySelector('#' + key + ' button');\n",
              "      quickchartButtonEl.disabled = true;  // To prevent multiple clicks.\n",
              "      quickchartButtonEl.classList.add('colab-df-spinner');\n",
              "      try {\n",
              "        const charts = await google.colab.kernel.invokeFunction(\n",
              "            'suggestCharts', [key], {});\n",
              "      } catch (error) {\n",
              "        console.error('Error during call to suggestCharts:', error);\n",
              "      }\n",
              "      quickchartButtonEl.classList.remove('colab-df-spinner');\n",
              "      quickchartButtonEl.classList.add('colab-df-quickchart-complete');\n",
              "    }\n",
              "    (() => {\n",
              "      let quickchartButtonEl =\n",
              "        document.querySelector('#df-a67bd4dc-cc73-49eb-aa4f-d5ae46311875 button');\n",
              "      quickchartButtonEl.style.display =\n",
              "        google.colab.kernel.accessAllowed ? 'block' : 'none';\n",
              "    })();\n",
              "  </script>\n",
              "</div>\n",
              "\n",
              "  <div id=\"id_fa300b0e-fec8-4623-a90f-d5695d0389e1\">\n",
              "    <style>\n",
              "      .colab-df-generate {\n",
              "        background-color: #E8F0FE;\n",
              "        border: none;\n",
              "        border-radius: 50%;\n",
              "        cursor: pointer;\n",
              "        display: none;\n",
              "        fill: #1967D2;\n",
              "        height: 32px;\n",
              "        padding: 0 0 0 0;\n",
              "        width: 32px;\n",
              "      }\n",
              "\n",
              "      .colab-df-generate:hover {\n",
              "        background-color: #E2EBFA;\n",
              "        box-shadow: 0px 1px 2px rgba(60, 64, 67, 0.3), 0px 1px 3px 1px rgba(60, 64, 67, 0.15);\n",
              "        fill: #174EA6;\n",
              "      }\n",
              "\n",
              "      [theme=dark] .colab-df-generate {\n",
              "        background-color: #3B4455;\n",
              "        fill: #D2E3FC;\n",
              "      }\n",
              "\n",
              "      [theme=dark] .colab-df-generate:hover {\n",
              "        background-color: #434B5C;\n",
              "        box-shadow: 0px 1px 3px 1px rgba(0, 0, 0, 0.15);\n",
              "        filter: drop-shadow(0px 1px 2px rgba(0, 0, 0, 0.3));\n",
              "        fill: #FFFFFF;\n",
              "      }\n",
              "    </style>\n",
              "    <button class=\"colab-df-generate\" onclick=\"generateWithVariable('df_unseen_test')\"\n",
              "            title=\"Generate code using this dataframe.\"\n",
              "            style=\"display:none;\">\n",
              "\n",
              "  <svg xmlns=\"http://www.w3.org/2000/svg\" height=\"24px\"viewBox=\"0 0 24 24\"\n",
              "       width=\"24px\">\n",
              "    <path d=\"M7,19H8.4L18.45,9,17,7.55,7,17.6ZM5,21V16.75L18.45,3.32a2,2,0,0,1,2.83,0l1.4,1.43a1.91,1.91,0,0,1,.58,1.4,1.91,1.91,0,0,1-.58,1.4L9.25,21ZM18.45,9,17,7.55Zm-12,3A5.31,5.31,0,0,0,4.9,8.1,5.31,5.31,0,0,0,1,6.5,5.31,5.31,0,0,0,4.9,4.9,5.31,5.31,0,0,0,6.5,1,5.31,5.31,0,0,0,8.1,4.9,5.31,5.31,0,0,0,12,6.5,5.46,5.46,0,0,0,6.5,12Z\"/>\n",
              "  </svg>\n",
              "    </button>\n",
              "    <script>\n",
              "      (() => {\n",
              "      const buttonEl =\n",
              "        document.querySelector('#id_fa300b0e-fec8-4623-a90f-d5695d0389e1 button.colab-df-generate');\n",
              "      buttonEl.style.display =\n",
              "        google.colab.kernel.accessAllowed ? 'block' : 'none';\n",
              "\n",
              "      buttonEl.onclick = () => {\n",
              "        google.colab.notebook.generateWithVariable('df_unseen_test');\n",
              "      }\n",
              "      })();\n",
              "    </script>\n",
              "  </div>\n",
              "\n",
              "    </div>\n",
              "  </div>\n"
            ],
            "application/vnd.google.colaboratory.intrinsic+json": {
              "type": "dataframe",
              "variable_name": "df_unseen_test"
            }
          },
          "metadata": {},
          "execution_count": 107
        }
      ]
    },
    {
      "cell_type": "code",
      "source": [
        "X_train, X_test, y_train, y_test = train_test_split(X, y, test_size=0.2, random_state=42)"
      ],
      "metadata": {
        "id": "cw6o_bNWzv4k"
      },
      "execution_count": 108,
      "outputs": []
    },
    {
      "cell_type": "code",
      "source": [
        "X_train.shape"
      ],
      "metadata": {
        "colab": {
          "base_uri": "https://localhost:8080/"
        },
        "id": "wayKYiWKBJw8",
        "outputId": "052b9e1e-f3c2-4e84-cf89-da9131190b7d"
      },
      "execution_count": 109,
      "outputs": [
        {
          "output_type": "execute_result",
          "data": {
            "text/plain": [
              "(12720, 1009)"
            ]
          },
          "metadata": {},
          "execution_count": 109
        }
      ]
    },
    {
      "cell_type": "code",
      "source": [
        "X_test.shape"
      ],
      "metadata": {
        "colab": {
          "base_uri": "https://localhost:8080/"
        },
        "id": "9GgXEGYSBArd",
        "outputId": "1c03a0d4-524c-4bce-8c62-6bdc3bf50d0c"
      },
      "execution_count": 110,
      "outputs": [
        {
          "output_type": "execute_result",
          "data": {
            "text/plain": [
              "(3180, 1009)"
            ]
          },
          "metadata": {},
          "execution_count": 110
        }
      ]
    },
    {
      "cell_type": "code",
      "source": [
        "df_unseen_test.shape"
      ],
      "metadata": {
        "colab": {
          "base_uri": "https://localhost:8080/"
        },
        "id": "PF2iGxYZBNNE",
        "outputId": "8b9ebc72-f1cd-4e02-c653-700f04dea8bf"
      },
      "execution_count": 111,
      "outputs": [
        {
          "output_type": "execute_result",
          "data": {
            "text/plain": [
              "(100, 1009)"
            ]
          },
          "metadata": {},
          "execution_count": 111
        }
      ]
    },
    {
      "cell_type": "code",
      "source": [
        "from sklearn.preprocessing import StandardScaler\n",
        "\n",
        "# Initialize the StandardScaler\n",
        "scaler = StandardScaler()\n",
        "\n",
        "# Fit on training set only\n",
        "scaler.fit(X_train)\n",
        "\n",
        "# Apply transform to the training set, the test set, unseen set\n",
        "X_train_scaled = scaler.transform(X_train)\n",
        "X_test_scaled = scaler.transform(X_test)\n",
        "df_unseen_test_scaled = scaler.transform(df_unseen_test)"
      ],
      "metadata": {
        "id": "vHCg8fQi0KAk"
      },
      "execution_count": 112,
      "outputs": []
    },
    {
      "cell_type": "code",
      "source": [
        "from sklearn.ensemble import RandomForestClassifier\n",
        "from sklearn.metrics import accuracy_score\n",
        "\n",
        "# Initialize the Random Forest classifier\n",
        "rf_clf = RandomForestClassifier(n_estimators=100, random_state=42)\n",
        "\n",
        "# Fit the classifier to the training data\n",
        "rf_clf.fit(X_train_scaled, y_train)\n",
        "\n",
        "# Evaluate the model on unseen data\n",
        "rf_pred = rf_clf.predict(df_unseen_test_scaled)\n",
        "rf_accuracy = accuracy_score(df_unseen_target, rf_pred)\n",
        "print(f\"Random Forest Accuracy on df unseen test: {rf_accuracy}\")\n",
        "\n",
        "# Evaluate the model on test data\n",
        "rf_pred = rf_clf.predict(X_test_scaled)\n",
        "rf_accuracy = accuracy_score(y_test, rf_pred)\n",
        "print(f\"Random Forest Accuracy on y test: {rf_accuracy}\")"
      ],
      "metadata": {
        "colab": {
          "base_uri": "https://localhost:8080/"
        },
        "id": "uruCxvC4zy6B",
        "outputId": "eca9a54b-bed2-47be-f788-40bcb7c926c2"
      },
      "execution_count": 113,
      "outputs": [
        {
          "output_type": "stream",
          "name": "stdout",
          "text": [
            "Random Forest Accuracy on df unseen test: 1.0\n",
            "Random Forest Accuracy on y test: 0.989937106918239\n"
          ]
        }
      ]
    },
    {
      "cell_type": "code",
      "source": [
        "# Import SVM classifier and accuracy score calculation\n",
        "from sklearn.svm import SVC\n",
        "\n",
        "# Initialize SVM classifier with 'auto' gamma\n",
        "svm_clf = SVC(gamma='auto')\n",
        "\n",
        "# Train the SVM model on scaled training data\n",
        "svm_clf.fit(X_train_scaled, y_train)\n",
        "\n",
        "# Predict using the trained SVM model on df unseen test data\n",
        "svm_pred = svm_clf.predict(df_unseen_test_scaled)\n",
        "svm_accuracy = accuracy_score(df_unseen_target, svm_pred)\n",
        "print(f\"SVM Accuracy on df unseen test: {svm_accuracy}\")\n",
        "\n",
        "# Predict using the trained SVM model on scaled test data\n",
        "svm_pred = svm_clf.predict(X_test_scaled)\n",
        "svm_accuracy = accuracy_score(y_test, svm_pred)\n",
        "print(f\"SVM Accuracy on scaled test data: {svm_accuracy}\")"
      ],
      "metadata": {
        "colab": {
          "base_uri": "https://localhost:8080/"
        },
        "id": "2DIOzzdVzy3p",
        "outputId": "4bebb169-4964-4419-bbd3-30593ec0cd65"
      },
      "execution_count": 114,
      "outputs": [
        {
          "output_type": "stream",
          "name": "stdout",
          "text": [
            "SVM Accuracy on df unseen test: 1.0\n",
            "SVM Accuracy on scaled test data: 0.9971698113207547\n"
          ]
        }
      ]
    },
    {
      "cell_type": "code",
      "source": [
        "# To prepare the data to be used as input for RNN model we need to take steps that would include tokenization and sequence padding\n",
        "\n",
        "df_shuffled = df_preprocessed.sample(frac=1, random_state=42).reset_index(drop=True) # Shuffling\n",
        "\n",
        "df_unseen = df_shuffled[:100]\n",
        "df_rest = df_shuffled[100:]\n",
        "\n",
        "texts = df_rest['text'].values  # Extract text data\n",
        "labels = df_rest['generated'].values  # Extract target variable\n",
        "\n",
        "unseen_texts = df_unseen['text'].values\n",
        "unseen_labels = df_unseen['generated'].values"
      ],
      "metadata": {
        "id": "YcujyXe69UJ0"
      },
      "execution_count": 136,
      "outputs": []
    },
    {
      "cell_type": "code",
      "source": [
        "import tensorflow as tf\n",
        "from tensorflow.keras.preprocessing.text import Tokenizer\n",
        "\n",
        "max_features = 10000  # Maximum number of words in the vocabulary\n",
        "\n",
        "tokenizer = Tokenizer(num_words=max_features)\n",
        "tokenizer.fit_on_texts(texts)\n",
        "\n",
        "sequences = tokenizer.texts_to_sequences(texts)\n",
        "unseen_sequences = tokenizer.texts_to_sequences(unseen_texts)"
      ],
      "metadata": {
        "id": "DMhYkM5b-Kkn"
      },
      "execution_count": 124,
      "outputs": []
    },
    {
      "cell_type": "code",
      "source": [
        "from tensorflow.keras.preprocessing.sequence import pad_sequences\n",
        "\n",
        "maxlen = 100  # Maximum length of a sequence\n",
        "X = pad_sequences(sequences, maxlen=maxlen)\n",
        "X_unseen = pad_sequences(unseen_sequences, maxlen=maxlen)"
      ],
      "metadata": {
        "id": "szZdILTu-QIQ"
      },
      "execution_count": 125,
      "outputs": []
    },
    {
      "cell_type": "code",
      "source": [
        "X_train, X_test, y_train, y_test = train_test_split(X, labels, test_size=0.2, random_state=42)"
      ],
      "metadata": {
        "id": "5RtQT96z-dMX"
      },
      "execution_count": 126,
      "outputs": []
    },
    {
      "cell_type": "code",
      "source": [
        "X_train"
      ],
      "metadata": {
        "colab": {
          "base_uri": "https://localhost:8080/"
        },
        "id": "jeNMnKxz-e29",
        "outputId": "b83afc1b-7e3c-4010-beb1-a0475c61ecdd"
      },
      "execution_count": 127,
      "outputs": [
        {
          "output_type": "execute_result",
          "data": {
            "text/plain": [
              "array([[  26, 3159,  168, ..., 4495, 1394,  197],\n",
              "       [  12,  109,    2, ...,   15,    1,  170],\n",
              "       [ 311,    1, 5488, ...,  266,    6,   67],\n",
              "       ...,\n",
              "       [1607,   60, 1176, ...,  403,  489, 3787],\n",
              "       [ 810,  699,   36, ...,  200,    2,  479],\n",
              "       [   9,  902,    4, ...,    6,   51,  546]], dtype=int32)"
            ]
          },
          "metadata": {},
          "execution_count": 127
        }
      ]
    },
    {
      "cell_type": "code",
      "source": [
        "X_train.shape"
      ],
      "metadata": {
        "colab": {
          "base_uri": "https://localhost:8080/"
        },
        "id": "vBIU2xuV-iCR",
        "outputId": "19d9041c-60b1-469d-9c1b-c47775d361e0"
      },
      "execution_count": 128,
      "outputs": [
        {
          "output_type": "execute_result",
          "data": {
            "text/plain": [
              "(12720, 100)"
            ]
          },
          "metadata": {},
          "execution_count": 128
        }
      ]
    },
    {
      "cell_type": "code",
      "source": [
        "X_unseen.shape"
      ],
      "metadata": {
        "colab": {
          "base_uri": "https://localhost:8080/"
        },
        "id": "gyghunhuFx5l",
        "outputId": "17d33727-834c-424d-de36-7f9ff24fdbce"
      },
      "execution_count": 130,
      "outputs": [
        {
          "output_type": "execute_result",
          "data": {
            "text/plain": [
              "(100, 100)"
            ]
          },
          "metadata": {},
          "execution_count": 130
        }
      ]
    },
    {
      "cell_type": "code",
      "source": [
        "from tensorflow.keras.models import Sequential\n",
        "from tensorflow.keras.layers import Embedding, SimpleRNN, Dense\n",
        "\n",
        "# Model parameters\n",
        "max_features = 10000  # Size of the vocabulary\n",
        "maxlen = 100  # Maximum length of a sequence\n",
        "embedding_dim = 32  # Dimensionality of the embedding layer\n",
        "\n",
        "# Building the model\n",
        "model = Sequential()\n",
        "model.add(Embedding(max_features, embedding_dim, input_length=maxlen))\n",
        "model.add(SimpleRNN(32))  # 32 units in the RNN layer\n",
        "model.add(Dense(1, activation='sigmoid'))  # Binary classification\n",
        "\n",
        "# Compiling the model\n",
        "model.compile(optimizer='rmsprop', loss='binary_crossentropy', metrics=['acc'])\n",
        "\n",
        "# Model summary\n",
        "model.summary()\n",
        "\n",
        "# Train the model\n",
        "history = model.fit(X_train, y_train, epochs=10, batch_size=32, validation_split=0.2)"
      ],
      "metadata": {
        "colab": {
          "base_uri": "https://localhost:8080/"
        },
        "id": "4cjZDGG9zy1H",
        "outputId": "9618cbbf-a6a8-4411-b54f-beffd9277f16"
      },
      "execution_count": 131,
      "outputs": [
        {
          "output_type": "stream",
          "name": "stdout",
          "text": [
            "Model: \"sequential_3\"\n",
            "_________________________________________________________________\n",
            " Layer (type)                Output Shape              Param #   \n",
            "=================================================================\n",
            " embedding_3 (Embedding)     (None, 100, 32)           320000    \n",
            "                                                                 \n",
            " simple_rnn_3 (SimpleRNN)    (None, 32)                2080      \n",
            "                                                                 \n",
            " dense_3 (Dense)             (None, 1)                 33        \n",
            "                                                                 \n",
            "=================================================================\n",
            "Total params: 322113 (1.23 MB)\n",
            "Trainable params: 322113 (1.23 MB)\n",
            "Non-trainable params: 0 (0.00 Byte)\n",
            "_________________________________________________________________\n",
            "Epoch 1/10\n",
            "318/318 [==============================] - 43s 131ms/step - loss: 0.3523 - acc: 0.8466 - val_loss: 0.0884 - val_acc: 0.9780\n",
            "Epoch 2/10\n",
            "318/318 [==============================] - 27s 86ms/step - loss: 0.0887 - acc: 0.9738 - val_loss: 0.0736 - val_acc: 0.9796\n",
            "Epoch 3/10\n",
            "318/318 [==============================] - 26s 80ms/step - loss: 0.0553 - acc: 0.9851 - val_loss: 0.0626 - val_acc: 0.9803\n",
            "Epoch 4/10\n",
            "318/318 [==============================] - 26s 82ms/step - loss: 0.0404 - acc: 0.9882 - val_loss: 0.0505 - val_acc: 0.9847\n",
            "Epoch 5/10\n",
            "318/318 [==============================] - 26s 81ms/step - loss: 0.0271 - acc: 0.9925 - val_loss: 0.0580 - val_acc: 0.9819\n",
            "Epoch 6/10\n",
            "318/318 [==============================] - 26s 83ms/step - loss: 0.0170 - acc: 0.9945 - val_loss: 0.0728 - val_acc: 0.9741\n",
            "Epoch 7/10\n",
            "318/318 [==============================] - 27s 84ms/step - loss: 0.0105 - acc: 0.9966 - val_loss: 0.1394 - val_acc: 0.9760\n",
            "Epoch 8/10\n",
            "318/318 [==============================] - 27s 86ms/step - loss: 0.0113 - acc: 0.9965 - val_loss: 0.0602 - val_acc: 0.9831\n",
            "Epoch 9/10\n",
            "318/318 [==============================] - 27s 83ms/step - loss: 0.0069 - acc: 0.9974 - val_loss: 0.0728 - val_acc: 0.9776\n",
            "Epoch 10/10\n",
            "318/318 [==============================] - 26s 83ms/step - loss: 0.0045 - acc: 0.9986 - val_loss: 0.0768 - val_acc: 0.9800\n"
          ]
        }
      ]
    },
    {
      "cell_type": "code",
      "source": [
        "from sklearn.metrics import accuracy_score, precision_score, recall_score, f1_score\n",
        "\n",
        "# Evaluate the model on test data\n",
        "test_predictions = model.predict(X_test)\n",
        "test_predicted_classes = (test_predictions > 0.5).astype(int)\n",
        "\n",
        "# Calculate metrics for the test set\n",
        "test_accuracy = accuracy_score(y_test, test_predicted_classes)\n",
        "test_precision = precision_score(y_test, test_predicted_classes)\n",
        "test_recall = recall_score(y_test, test_predicted_classes)\n",
        "test_f1 = f1_score(y_test, test_predicted_classes)\n",
        "\n",
        "print(\"Test Set Performance:\")\n",
        "print(f\"Accuracy: {test_accuracy}\")\n",
        "print(f\"Precision: {test_precision}\")\n",
        "print(f\"Recall: {test_recall}\")\n",
        "print(f\"F1 Score: {test_f1}\")\n",
        "print(\"\\n\")\n",
        "\n",
        "# Evaluate the model on test data\n",
        "unseen_predictions = model.predict(X_unseen)\n",
        "unseen_predicted_classes = (unseen_predictions > 0.5).astype(int)\n",
        "\n",
        "# Calculate metrics for the unseen dataset\n",
        "unseen_accuracy = accuracy_score(unseen_labels, unseen_predicted_classes)\n",
        "unseen_precision = precision_score(unseen_labels, unseen_predicted_classes)\n",
        "unseen_recall = recall_score(unseen_labels, unseen_predicted_classes)\n",
        "unseen_f1 = f1_score(unseen_labels, unseen_predicted_classes)\n",
        "\n",
        "print(\"Unseen Dataset Performance:\")\n",
        "print(f\"Accuracy: {unseen_accuracy}\")\n",
        "print(f\"Precision: {unseen_precision}\")\n",
        "print(f\"Recall: {unseen_recall}\")\n",
        "print(f\"F1 Score: {unseen_f1}\")"
      ],
      "metadata": {
        "colab": {
          "base_uri": "https://localhost:8080/"
        },
        "id": "EqFPkVOjzyyw",
        "outputId": "bec48154-eb7a-4a07-e3a4-2db2c7054209"
      },
      "execution_count": 135,
      "outputs": [
        {
          "output_type": "stream",
          "name": "stdout",
          "text": [
            "100/100 [==============================] - 3s 25ms/step\n",
            "Test Set Performance:\n",
            "Accuracy: 0.9795597484276729\n",
            "Precision: 0.975609756097561\n",
            "Recall: 0.982546864899806\n",
            "F1 Score: 0.9790660225442833\n",
            "\n",
            "\n",
            "4/4 [==============================] - 0s 30ms/step\n",
            "Unseen Dataset Performance:\n",
            "Accuracy: 0.99\n",
            "Precision: 1.0\n",
            "Recall: 0.98\n",
            "F1 Score: 0.98989898989899\n"
          ]
        }
      ]
    }
  ]
}